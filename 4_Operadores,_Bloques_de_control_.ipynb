{
  "nbformat": 4,
  "nbformat_minor": 0,
  "metadata": {
    "colab": {
      "name": "4. Operadores, Bloques de control .ipynb",
      "provenance": [],
      "toc_visible": true,
      "authorship_tag": "ABX9TyOHoOCVyM1bvQTlBpX66Bmf",
      "include_colab_link": true
    },
    "kernelspec": {
      "name": "python3",
      "display_name": "Python 3"
    }
  },
  "cells": [
    {
      "cell_type": "markdown",
      "metadata": {
        "id": "view-in-github",
        "colab_type": "text"
      },
      "source": [
        "<a href=\"https://colab.research.google.com/github/AnIsAsPe/Introduccion-a-Python/blob/main/4_Operadores%2C_Bloques_de_control_.ipynb\" target=\"_parent\"><img src=\"https://colab.research.google.com/assets/colab-badge.svg\" alt=\"Open In Colab\"/></a>"
      ]
    },
    {
      "cell_type": "markdown",
      "metadata": {
        "id": "8Ul3fuIrdFup"
      },
      "source": [
        "# Operadores"
      ]
    },
    {
      "cell_type": "markdown",
      "metadata": {
        "id": "pAevU2UIdQ3g"
      },
      "source": [
        "## De comparación"
      ]
    },
    {
      "cell_type": "code",
      "metadata": {
        "id": "hZUpEh9BdQZH"
      },
      "source": [
        "a = 21\r\n",
        "b = 10\r\n",
        "c = 0"
      ],
      "execution_count": null,
      "outputs": []
    },
    {
      "cell_type": "code",
      "metadata": {
        "colab": {
          "base_uri": "https://localhost:8080/"
        },
        "id": "0ZX1npqQdELN",
        "outputId": "1e7c22f3-f0ae-4195-e0a0-754bbe2ae9c7"
      },
      "source": [
        " # igual que ==\r\n",
        " a == b "
      ],
      "execution_count": null,
      "outputs": [
        {
          "output_type": "execute_result",
          "data": {
            "text/plain": [
              "False"
            ]
          },
          "metadata": {
            "tags": []
          },
          "execution_count": 2
        }
      ]
    },
    {
      "cell_type": "code",
      "metadata": {
        "colab": {
          "base_uri": "https://localhost:8080/"
        },
        "id": "QwyRuR5Pdl_3",
        "outputId": "fab258ab-1ab5-4301-ca73-c281b42b5fda"
      },
      "source": [
        " # no igual que !=\r\n",
        " a != b "
      ],
      "execution_count": null,
      "outputs": [
        {
          "output_type": "execute_result",
          "data": {
            "text/plain": [
              "True"
            ]
          },
          "metadata": {
            "tags": []
          },
          "execution_count": 3
        }
      ]
    },
    {
      "cell_type": "code",
      "metadata": {
        "colab": {
          "base_uri": "https://localhost:8080/"
        },
        "id": "b3kd8v-idoKv",
        "outputId": "97c5216b-6689-42d2-db79-007617f23fe3"
      },
      "source": [
        " # menor que <\r\n",
        " a < b"
      ],
      "execution_count": null,
      "outputs": [
        {
          "output_type": "execute_result",
          "data": {
            "text/plain": [
              "False"
            ]
          },
          "metadata": {
            "tags": []
          },
          "execution_count": 4
        }
      ]
    },
    {
      "cell_type": "code",
      "metadata": {
        "colab": {
          "base_uri": "https://localhost:8080/"
        },
        "id": "QnBZ84bcdrUF",
        "outputId": "a154f998-9cda-4a1d-d03d-d55eb8165f3f"
      },
      "source": [
        "# mayor que >\r\n",
        "a > b"
      ],
      "execution_count": null,
      "outputs": [
        {
          "output_type": "execute_result",
          "data": {
            "text/plain": [
              "True"
            ]
          },
          "metadata": {
            "tags": []
          },
          "execution_count": 5
        }
      ]
    },
    {
      "cell_type": "code",
      "metadata": {
        "colab": {
          "base_uri": "https://localhost:8080/"
        },
        "id": "syJy2eCsdsfn",
        "outputId": "bfc46eaa-96c6-437c-a330-250c92ee4729"
      },
      "source": [
        "# menor o igual que <=\r\n",
        "\r\n",
        "a = 19\r\n",
        "b = 20\r\n",
        "a <= b"
      ],
      "execution_count": null,
      "outputs": [
        {
          "output_type": "execute_result",
          "data": {
            "text/plain": [
              "True"
            ]
          },
          "metadata": {
            "tags": []
          },
          "execution_count": 6
        }
      ]
    },
    {
      "cell_type": "code",
      "metadata": {
        "colab": {
          "base_uri": "https://localhost:8080/"
        },
        "id": "aXnWZMHTdwde",
        "outputId": "cd4d254a-d288-4582-86e3-09086cade4e3"
      },
      "source": [
        "# mayor o igual que >=\r\n",
        "a >= b "
      ],
      "execution_count": null,
      "outputs": [
        {
          "output_type": "execute_result",
          "data": {
            "text/plain": [
              "False"
            ]
          },
          "metadata": {
            "tags": []
          },
          "execution_count": 7
        }
      ]
    },
    {
      "cell_type": "code",
      "metadata": {
        "colab": {
          "base_uri": "https://localhost:8080/"
        },
        "id": "y2eruk_C62ii",
        "outputId": "200a92b0-bb1d-4c73-ff06-5fb3d6268529"
      },
      "source": [
        "edades = [ 3, 5, 6, 9 , 12]\r\n",
        "años = [ 3, 5, 6, 9 , 12]\r\n",
        "\r\n",
        "edades == años"
      ],
      "execution_count": null,
      "outputs": [
        {
          "output_type": "execute_result",
          "data": {
            "text/plain": [
              "True"
            ]
          },
          "metadata": {
            "tags": []
          },
          "execution_count": 8
        }
      ]
    },
    {
      "cell_type": "code",
      "metadata": {
        "colab": {
          "base_uri": "https://localhost:8080/"
        },
        "id": "VUGYd6OG6XO2",
        "outputId": "e4720b1f-235e-41ff-9c8c-f14bf94443dd"
      },
      "source": [
        "(3 < 8) and (3 < 9)"
      ],
      "execution_count": null,
      "outputs": [
        {
          "output_type": "execute_result",
          "data": {
            "text/plain": [
              "True"
            ]
          },
          "metadata": {
            "tags": []
          },
          "execution_count": 12
        }
      ]
    },
    {
      "cell_type": "markdown",
      "metadata": {
        "id": "cJO9baVkemn1"
      },
      "source": [
        "## Operaciones de asignación"
      ]
    },
    {
      "cell_type": "code",
      "metadata": {
        "colab": {
          "base_uri": "https://localhost:8080/"
        },
        "id": "t44EIsu9eq7W",
        "outputId": "c13d8320-96e2-4643-e243-9026222ad3f1"
      },
      "source": [
        "a = 21\r\n",
        "b = 10\r\n",
        "c = 0\r\n",
        "c = a + b\r\n",
        "print ( c )"
      ],
      "execution_count": null,
      "outputs": [
        {
          "output_type": "stream",
          "text": [
            "31\n"
          ],
          "name": "stdout"
        }
      ]
    },
    {
      "cell_type": "code",
      "metadata": {
        "colab": {
          "base_uri": "https://localhost:8080/"
        },
        "id": "SD6Ux_9-f-Kj",
        "outputId": "c0d4a565-17dc-47e6-8428-e5e12dc0dfe5"
      },
      "source": [
        "c += a  \r\n",
        "print ( c )"
      ],
      "execution_count": null,
      "outputs": [
        {
          "output_type": "stream",
          "text": [
            "52\n"
          ],
          "name": "stdout"
        }
      ]
    },
    {
      "cell_type": "code",
      "metadata": {
        "id": "h5mpI8Zl-XCn"
      },
      "source": [
        "a = 7\r\n",
        "b = 2"
      ],
      "execution_count": null,
      "outputs": []
    },
    {
      "cell_type": "code",
      "metadata": {
        "colab": {
          "base_uri": "https://localhost:8080/"
        },
        "id": "viEJ3HFC-6tK",
        "outputId": "a0305601-4e66-4002-d42f-74551fe0281e"
      },
      "source": [
        "a = 1\r\n",
        "a += 2\r\n",
        "a"
      ],
      "execution_count": null,
      "outputs": [
        {
          "output_type": "execute_result",
          "data": {
            "text/plain": [
              "9"
            ]
          },
          "metadata": {
            "tags": []
          },
          "execution_count": 9
        }
      ]
    },
    {
      "cell_type": "code",
      "metadata": {
        "colab": {
          "base_uri": "https://localhost:8080/"
        },
        "id": "9LNNAnRI-9PS",
        "outputId": "737d2ccf-d709-454a-ff84-a305cc3e89cd"
      },
      "source": [
        "a = 1\r\n",
        "a = a + 2\r\n",
        "a"
      ],
      "execution_count": null,
      "outputs": [
        {
          "output_type": "execute_result",
          "data": {
            "text/plain": [
              "9"
            ]
          },
          "metadata": {
            "tags": []
          },
          "execution_count": 11
        }
      ]
    },
    {
      "cell_type": "code",
      "metadata": {
        "colab": {
          "base_uri": "https://localhost:8080/"
        },
        "id": "nR91QhUb-FxC",
        "outputId": "2a97430e-9aaa-48a7-924b-9638ee6d7393"
      },
      "source": [
        "c = a + b\r\n",
        "print ( c )\r\n",
        "\r\n",
        "c += a\r\n",
        "print ( c )\r\n",
        "\r\n",
        "c *= a\r\n",
        "print ( c )\r\n",
        "\r\n",
        "c /= a\r\n",
        "print ( c )\r\n",
        "\r\n",
        "c  = 2\r\n",
        "c %= a\r\n",
        "print ( c )\r\n",
        "c **= a\r\n",
        "print ( c )"
      ],
      "execution_count": null,
      "outputs": [
        {
          "output_type": "stream",
          "text": [
            "31\n",
            "52\n",
            "1092\n",
            "52.0\n",
            "2\n",
            "2097152\n"
          ],
          "name": "stdout"
        }
      ]
    },
    {
      "cell_type": "markdown",
      "metadata": {
        "id": "6jP12t-ugZlP"
      },
      "source": [
        "¿Qué sucedió?\r\n",
        "c era igual a 31, sumó el valor de a = 21 y guardó el resultado en c"
      ]
    },
    {
      "cell_type": "code",
      "metadata": {
        "colab": {
          "base_uri": "https://localhost:8080/"
        },
        "id": "QyKCmsamgmBm",
        "outputId": "7f4ed94a-4707-4e68-9a72-de12ce654c03"
      },
      "source": [
        "#es muy util en los ciclos while\r\n",
        "\r\n",
        "while c < 60:\r\n",
        " c += 1\r\n",
        " print(c)"
      ],
      "execution_count": null,
      "outputs": [
        {
          "output_type": "stream",
          "text": [
            "53\n",
            "54\n",
            "55\n",
            "56\n",
            "57\n",
            "58\n",
            "59\n",
            "60\n"
          ],
          "name": "stdout"
        }
      ]
    },
    {
      "cell_type": "code",
      "metadata": {
        "colab": {
          "base_uri": "https://localhost:8080/"
        },
        "id": "wSgTuyiag4jg",
        "outputId": "2fc7e68b-a9a6-4d7d-f62d-5c47d6a7518e"
      },
      "source": [
        "c"
      ],
      "execution_count": null,
      "outputs": [
        {
          "output_type": "execute_result",
          "data": {
            "text/plain": [
              "60"
            ]
          },
          "metadata": {
            "tags": []
          },
          "execution_count": 13
        }
      ]
    },
    {
      "cell_type": "code",
      "metadata": {
        "colab": {
          "base_uri": "https://localhost:8080/"
        },
        "id": "-OO9suorg7u_",
        "outputId": "93bb9cfb-62f2-4dbf-883f-61bf161486ce"
      },
      "source": [
        "while c > 40:\r\n",
        "  c -= 5\r\n",
        "  print(c)"
      ],
      "execution_count": null,
      "outputs": [
        {
          "output_type": "stream",
          "text": [
            "55\n",
            "50\n",
            "45\n",
            "40\n"
          ],
          "name": "stdout"
        }
      ]
    },
    {
      "cell_type": "code",
      "metadata": {
        "colab": {
          "base_uri": "https://localhost:8080/"
        },
        "id": "gCecC_38hQ-H",
        "outputId": "30f964ca-550f-4413-93c1-c8186217dc82"
      },
      "source": [
        "x = 4\r\n",
        "while x <= 200:\r\n",
        "  x *= 2\r\n",
        "  print (x)"
      ],
      "execution_count": null,
      "outputs": [
        {
          "output_type": "stream",
          "text": [
            "8\n",
            "16\n",
            "32\n",
            "64\n",
            "128\n",
            "256\n"
          ],
          "name": "stdout"
        }
      ]
    },
    {
      "cell_type": "markdown",
      "metadata": {
        "id": "1vei6smFh0-n"
      },
      "source": [
        "¿por qué llegó a 256?"
      ]
    },
    {
      "cell_type": "code",
      "metadata": {
        "colab": {
          "base_uri": "https://localhost:8080/"
        },
        "id": "smtCw2d7h9CY",
        "outputId": "4f3ff095-caaa-45fe-bffd-5ddd4223034d"
      },
      "source": [
        "while x > 10:\r\n",
        "  x /= 4\r\n",
        "  print(x)"
      ],
      "execution_count": null,
      "outputs": [
        {
          "output_type": "stream",
          "text": [
            "64.0\n",
            "16.0\n",
            "4.0\n"
          ],
          "name": "stdout"
        }
      ]
    },
    {
      "cell_type": "markdown",
      "metadata": {
        "id": "uHW7kL_ymlqG"
      },
      "source": [
        "## Operadores de pertenencia"
      ]
    },
    {
      "cell_type": "code",
      "metadata": {
        "colab": {
          "base_uri": "https://localhost:8080/"
        },
        "id": "WxyybshPmo1H",
        "outputId": "2e528b5d-6665-47a7-f8f8-46b2085ede66"
      },
      "source": [
        "#pertenencia\r\n",
        "\r\n",
        "X = [1, 2, 3, 4]\r\n",
        "A = 3\r\n",
        "print(A in X)"
      ],
      "execution_count": null,
      "outputs": [
        {
          "output_type": "stream",
          "text": [
            "True\n"
          ],
          "name": "stdout"
        }
      ]
    },
    {
      "cell_type": "markdown",
      "metadata": {
        "id": "461l_Bn_CGuw"
      },
      "source": [
        "# Bloques de código y estructuras de control"
      ]
    },
    {
      "cell_type": "markdown",
      "metadata": {
        "id": "27uFyyLuea3n"
      },
      "source": [
        "## Declaración condicional if, elif, else"
      ]
    },
    {
      "cell_type": "code",
      "metadata": {
        "colab": {
          "base_uri": "https://localhost:8080/"
        },
        "id": "GLP8bvYPZSOR",
        "outputId": "f717c085-82be-4e66-a070-e7987e2d3c75"
      },
      "source": [
        "x = 20\r\n",
        "y = 20\r\n",
        "\r\n",
        "if x < y:\r\n",
        "  print('x es me   nor que y')\r\n",
        "elif x > y:\r\n",
        "    print('x es mayor que y')\r\n",
        "elif x ==100:\r\n",
        "    print('x es igual a 100')\r\n",
        "else:\r\n",
        "    print('x es igual a y')"
      ],
      "execution_count": null,
      "outputs": [
        {
          "output_type": "stream",
          "text": [
            "x es igual a y\n"
          ],
          "name": "stdout"
        }
      ]
    },
    {
      "cell_type": "markdown",
      "metadata": {
        "id": "LhzT7yFEdaGV"
      },
      "source": [
        "## Ciclos while"
      ]
    },
    {
      "cell_type": "code",
      "metadata": {
        "colab": {
          "base_uri": "https://localhost:8080/"
        },
        "id": "s9Gla1wgaWJd",
        "outputId": "eb98bbb7-cdaf-4322-9c6d-ff8d9077fea8"
      },
      "source": [
        "a = 10\r\n",
        "while a >= 0:\r\n",
        "   print(a)\r\n",
        "   a -= 1\r\n",
        "\r\n",
        "print (\"¡Fin!\")"
      ],
      "execution_count": null,
      "outputs": [
        {
          "output_type": "stream",
          "text": [
            "10\n",
            "9\n",
            "8\n",
            "7\n",
            "6\n",
            "5\n",
            "4\n",
            "3\n",
            "2\n",
            "1\n",
            "0\n",
            "¡Fin!\n"
          ],
          "name": "stdout"
        }
      ]
    },
    {
      "cell_type": "code",
      "metadata": {
        "colab": {
          "base_uri": "https://localhost:8080/"
        },
        "id": "X4_6_LUla-0V",
        "outputId": "f5b50f92-2014-4c67-90cd-ec2b4981d778"
      },
      "source": [
        "# Secuencia de Fibonacci\r\n",
        "\r\n",
        "a, b = 0, 1          \r\n",
        "\r\n",
        "secuencia = []         \r\n",
        "\r\n",
        "while a < 100000:     \r\n",
        "  secuencia.append(a)\r\n",
        "  a, b = b, a + b\r\n",
        "\r\n",
        "secuencia"
      ],
      "execution_count": null,
      "outputs": [
        {
          "output_type": "execute_result",
          "data": {
            "text/plain": [
              "[0,\n",
              " 1,\n",
              " 1,\n",
              " 2,\n",
              " 3,\n",
              " 5,\n",
              " 8,\n",
              " 13,\n",
              " 21,\n",
              " 34,\n",
              " 55,\n",
              " 89,\n",
              " 144,\n",
              " 233,\n",
              " 377,\n",
              " 610,\n",
              " 987,\n",
              " 1597,\n",
              " 2584,\n",
              " 4181,\n",
              " 6765,\n",
              " 10946,\n",
              " 17711,\n",
              " 28657,\n",
              " 46368,\n",
              " 75025]"
            ]
          },
          "metadata": {
            "tags": []
          },
          "execution_count": 20
        }
      ]
    },
    {
      "cell_type": "markdown",
      "metadata": {
        "id": "P6eV57P-ImuX"
      },
      "source": [
        "## Ciclos for"
      ]
    },
    {
      "cell_type": "code",
      "metadata": {
        "id": "8MYje81NImuX",
        "colab": {
          "base_uri": "https://localhost:8080/"
        },
        "outputId": "f5e18e8e-699f-40d4-8079-3b0d93c9d4cb"
      },
      "source": [
        "for i in range(10, 50, 5):\n",
        "    print( i,  end =' ') \n",
        "    "
      ],
      "execution_count": null,
      "outputs": [
        {
          "output_type": "stream",
          "text": [
            "10 15 20 25 30 35 40 45 "
          ],
          "name": "stdout"
        }
      ]
    },
    {
      "cell_type": "code",
      "metadata": {
        "colab": {
          "base_uri": "https://localhost:8080/"
        },
        "id": "RB2fVwZn6Xtr",
        "outputId": "a1175c26-cd06-4873-8edc-253fe0f2f457"
      },
      "source": [
        "palabras = ['manzana','árbol', 'luna', 'casa', 'perro']\r\n",
        "for p in palabras:\r\n",
        "  print(p)"
      ],
      "execution_count": null,
      "outputs": [
        {
          "output_type": "stream",
          "text": [
            "manzana\n",
            "árbol\n",
            "luna\n",
            "casa\n",
            "perro\n"
          ],
          "name": "stdout"
        }
      ]
    },
    {
      "cell_type": "code",
      "metadata": {
        "colab": {
          "base_uri": "https://localhost:8080/"
        },
        "id": "WASS-H7EjB38",
        "outputId": "cdfecc74-1bf6-4aff-a7f6-3309bbee1617"
      },
      "source": [
        "palabras = ['manzana','árbol', 'Jose','luna', 'Sara', 'casa', 'perro']\r\n",
        "\r\n",
        "personas = []\r\n",
        "objetos = []\r\n",
        "for palabra in palabras:\r\n",
        "  if palabra.istitle():\r\n",
        "    personas.append(palabra)\r\n",
        "  else:\r\n",
        "    objetos.append(palabra)\r\n",
        "\r\n",
        "print(personas) \r\n",
        "print(objetos)"
      ],
      "execution_count": null,
      "outputs": [
        {
          "output_type": "stream",
          "text": [
            "['Jose', 'Sara']\n",
            "['manzana', 'árbol', 'luna', 'casa', 'perro']\n"
          ],
          "name": "stdout"
        }
      ]
    },
    {
      "cell_type": "code",
      "metadata": {
        "id": "mnS_p-LMImuX",
        "colab": {
          "base_uri": "https://localhost:8080/"
        },
        "outputId": "9e6f7a0f-f289-4438-b093-ccc94d110b6b"
      },
      "source": [
        "lista = []\n",
        "for x in 'abcdefg':\n",
        "    lista.append('clase '+x)\n",
        "lista"
      ],
      "execution_count": null,
      "outputs": [
        {
          "output_type": "execute_result",
          "data": {
            "text/plain": [
              "['clase a', 'clase b', 'clase c', 'clase d', 'clase e', 'clase f', 'clase g']"
            ]
          },
          "metadata": {
            "tags": []
          },
          "execution_count": 23
        }
      ]
    },
    {
      "cell_type": "code",
      "metadata": {
        "id": "GnU94ShUImuY",
        "colab": {
          "base_uri": "https://localhost:8080/"
        },
        "outputId": "0a60f400-4520-465e-f44b-3c8922f2e3a1"
      },
      "source": [
        "dic = {}\n",
        "for n in range(2, 6):\n",
        "    dic['cuadrado de ' + str(n)] = n**2\n",
        "\n",
        "dic"
      ],
      "execution_count": null,
      "outputs": [
        {
          "output_type": "execute_result",
          "data": {
            "text/plain": [
              "{'cuadrado de 2': 4,\n",
              " 'cuadrado de 3': 9,\n",
              " 'cuadrado de 4': 16,\n",
              " 'cuadrado de 5': 25}"
            ]
          },
          "metadata": {
            "tags": []
          },
          "execution_count": 24
        }
      ]
    },
    {
      "cell_type": "markdown",
      "metadata": {
        "id": "431ZrtlRsyU7"
      },
      "source": [
        "## Control de flujo"
      ]
    },
    {
      "cell_type": "markdown",
      "metadata": {
        "id": "b_Youdlqx9E5"
      },
      "source": [
        "### break"
      ]
    },
    {
      "cell_type": "code",
      "metadata": {
        "colab": {
          "base_uri": "https://localhost:8080/"
        },
        "id": "H5uTNixWtcQP",
        "outputId": "3de320b3-786d-4771-d659-1d72d511013d"
      },
      "source": [
        "#  el ciclo while while puede tener una sentencia else al final,\r\n",
        "#  cuando la condición se vuelve falsa, se ejecuta el código.\r\n",
        "\r\n",
        "a = 10\r\n",
        "while (a >= 0):\r\n",
        "   print(a)\r\n",
        "   a = a - 1       # a -= 1\r\n",
        "else:\r\n",
        "  print (\"¡Fin!\")"
      ],
      "execution_count": null,
      "outputs": [
        {
          "output_type": "stream",
          "text": [
            "10\n",
            "9\n",
            "8\n",
            "7\n",
            "6\n",
            "5\n",
            "4\n",
            "3\n",
            "2\n",
            "1\n",
            "0\n",
            "¡Fin!\n"
          ],
          "name": "stdout"
        }
      ]
    },
    {
      "cell_type": "code",
      "metadata": {
        "colab": {
          "base_uri": "https://localhost:8080/"
        },
        "id": "CxblaIL1sQA1",
        "outputId": "5a36e302-2414-4e6d-e0b6-dc704254d754"
      },
      "source": [
        "# la sentencia else para el ciclo while no se cumple si se se utiliza break antes.\r\n",
        "\r\n",
        "a = 10\r\n",
        "while (a >= 0):\r\n",
        "   print(a)\r\n",
        "   a = a - 1       # a -= 1\r\n",
        "   if a == 3:\r\n",
        "     break\r\n",
        "else:\r\n",
        "  print (\"¡Fin!\")"
      ],
      "execution_count": null,
      "outputs": [
        {
          "output_type": "stream",
          "text": [
            "10\n",
            "9\n",
            "8\n",
            "7\n",
            "6\n",
            "5\n",
            "4\n"
          ],
          "name": "stdout"
        }
      ]
    },
    {
      "cell_type": "code",
      "metadata": {
        "id": "-i2ibfYwh4Ap"
      },
      "source": [
        "#brake también es util cuando la condición nunca se hace falsa (ciclo infinito)\r\n",
        "\r\n",
        "a = 101\r\n",
        "\r\n",
        "while a < 100:\r\n",
        "  print(a)\r\n",
        "  a -= 10"
      ],
      "execution_count": null,
      "outputs": []
    },
    {
      "cell_type": "code",
      "metadata": {
        "colab": {
          "base_uri": "https://localhost:8080/"
        },
        "id": "wK4wSHU-mrw1",
        "outputId": "1c109008-dfe1-4f50-8698-3dea60b9c410"
      },
      "source": [
        "#podemos agregar una condición y romper el ciclo\r\n",
        "a = 99\r\n",
        "\r\n",
        "while a < 100:\r\n",
        "  if a < 0:\r\n",
        "    print(a, 'es menor que 0')\r\n",
        "    break\r\n",
        "  print(a)\r\n",
        "  a -= 10"
      ],
      "execution_count": null,
      "outputs": [
        {
          "output_type": "stream",
          "text": [
            "99\n",
            "89\n",
            "79\n",
            "69\n",
            "59\n",
            "49\n",
            "39\n",
            "29\n",
            "19\n",
            "9\n",
            "-1 es menor que 0\n"
          ],
          "name": "stdout"
        }
      ]
    },
    {
      "cell_type": "code",
      "metadata": {
        "colab": {
          "base_uri": "https://localhost:8080/"
        },
        "id": "Qz9ErN3Ywz85",
        "outputId": "ccb722c1-0c98-46dd-e921-353126969899"
      },
      "source": [
        "for i in 'detener':\r\n",
        "  print(i, end='')\r\n",
        "else:\r\n",
        "  print('.')"
      ],
      "execution_count": null,
      "outputs": [
        {
          "output_type": "stream",
          "text": [
            "detener.\n"
          ],
          "name": "stdout"
        }
      ]
    },
    {
      "cell_type": "code",
      "metadata": {
        "colab": {
          "base_uri": "https://localhost:8080/"
        },
        "id": "5nRP6zu1xed4",
        "outputId": "111ed028-2051-4d55-884b-c896b4079ea9"
      },
      "source": [
        "for i in 'detener':\r\n",
        "  print(i, end='')\r\n",
        "  if i == 'n':\r\n",
        "    break\r\n",
        "else:\r\n",
        "  print('.')"
      ],
      "execution_count": null,
      "outputs": [
        {
          "output_type": "stream",
          "text": [
            "deten"
          ],
          "name": "stdout"
        }
      ]
    },
    {
      "cell_type": "code",
      "metadata": {
        "colab": {
          "base_uri": "https://localhost:8080/"
        },
        "id": "HCvs_cQum_XY",
        "outputId": "cae8eb59-33cf-4ef3-9899-f5c6018954c6"
      },
      "source": [
        "#identificar números primos (solamente divisibles por el mismo)\r\n",
        "primos = []\r\n",
        "no_primos = []\r\n",
        "\r\n",
        "for n in range(2, 20):\r\n",
        "  # evaluar la división de n por c/número <=2 y menor n\r\n",
        "  for x in range(2, n):   \r\n",
        "    if n % x == 0:\r\n",
        "      no_primos.append(n)\r\n",
        "      break\r\n",
        "  else:\r\n",
        "    primos.append(n)\r\n",
        "    \r\n",
        "primos"
      ],
      "execution_count": null,
      "outputs": [
        {
          "output_type": "execute_result",
          "data": {
            "text/plain": [
              "[2, 3, 5, 7, 11, 13, 17, 19]"
            ]
          },
          "metadata": {
            "tags": []
          },
          "execution_count": 31
        }
      ]
    },
    {
      "cell_type": "markdown",
      "metadata": {
        "id": "0Ag0cFA5yCuv"
      },
      "source": [
        "### continue"
      ]
    },
    {
      "cell_type": "code",
      "metadata": {
        "id": "06E0Un1wh9Ci",
        "colab": {
          "base_uri": "https://localhost:8080/"
        },
        "outputId": "19e14e22-bb73-4b5b-e429-9584860e3468"
      },
      "source": [
        "i = 0\r\n",
        "while i < 8:\r\n",
        "  i += 1\r\n",
        "  if(i==6 or i ==7):   #si se cumple no ejecuta las siguientes líneas del ciclo\r\n",
        "   continue\r\n",
        "  print(i)"
      ],
      "execution_count": null,
      "outputs": [
        {
          "output_type": "stream",
          "text": [
            "1\n",
            "2\n",
            "3\n",
            "4\n",
            "5\n",
            "8\n"
          ],
          "name": "stdout"
        }
      ]
    },
    {
      "cell_type": "markdown",
      "metadata": {
        "id": "FhZ12v4P1Trf"
      },
      "source": [
        "### pass"
      ]
    },
    {
      "cell_type": "code",
      "metadata": {
        "id": "PJdUIFjAztRZ"
      },
      "source": [
        "while True:\r\n",
        "  pass         #espera a interrumpir"
      ],
      "execution_count": null,
      "outputs": []
    },
    {
      "cell_type": "code",
      "metadata": {
        "id": "ZJ5h_F2A1fEf"
      },
      "source": [
        "for c in 'hola':\r\n",
        "  pass\r\n"
      ],
      "execution_count": null,
      "outputs": []
    },
    {
      "cell_type": "code",
      "metadata": {
        "id": "fBGVWa_VSVQl"
      },
      "source": [
        "c"
      ],
      "execution_count": null,
      "outputs": []
    },
    {
      "cell_type": "markdown",
      "metadata": {
        "id": "swPdO4a8h4S6"
      },
      "source": [
        "##Ciclos anidados"
      ]
    },
    {
      "cell_type": "code",
      "metadata": {
        "id": "rw0A3IA3i1hJ"
      },
      "source": [
        "i = 1\r\n",
        "while i <= 3 :\r\n",
        "    print(i,\"ciclo 1 --\")\r\n",
        "    j = 1\r\n",
        "    while j <= 3:\r\n",
        "        print(j, \"ciclo 2\")\r\n",
        "        j += 1\r\n",
        "    i += 1;\r\n",
        "  "
      ],
      "execution_count": null,
      "outputs": []
    },
    {
      "cell_type": "code",
      "metadata": {
        "id": "_W6S9w4CikB6"
      },
      "source": [
        "dado = [1, 2, 3, 4, 5, 6]\r\n",
        "\r\n",
        "pares = []\r\n",
        "for i in dado:\r\n",
        "  for j in dado:\r\n",
        "    pares.append((i, j))\r\n",
        "len(pares )"
      ],
      "execution_count": null,
      "outputs": []
    },
    {
      "cell_type": "markdown",
      "metadata": {
        "id": "ICXXxaVMh95y"
      },
      "source": [
        "#Compresión de listas y diccionarios"
      ]
    },
    {
      "cell_type": "markdown",
      "metadata": {
        "id": "A2aISNgKCc7W"
      },
      "source": [
        "## Listas"
      ]
    },
    {
      "cell_type": "code",
      "metadata": {
        "id": "el9n69iH7avI"
      },
      "source": [
        "paises = ['méxico', 'francia', 'japón', 'egipto','australia']"
      ],
      "execution_count": null,
      "outputs": []
    },
    {
      "cell_type": "code",
      "metadata": {
        "id": "e8neNqH78CK9"
      },
      "source": [
        "Paises = []\r\n",
        "for pais in paises:\r\n",
        "  Paises.append(pais.capitalize())\r\n",
        "Paises"
      ],
      "execution_count": null,
      "outputs": []
    },
    {
      "cell_type": "code",
      "metadata": {
        "id": "ZjeY8nWi7rqN"
      },
      "source": [
        "nom_paises = [p.capitalize() for p in paises]\r\n",
        "nom_paises"
      ],
      "execution_count": null,
      "outputs": []
    },
    {
      "cell_type": "markdown",
      "metadata": {
        "id": "sy_JRiup8YSm"
      },
      "source": [
        "incluso podríamos usar la misma lista, sin duplicar la información en otra lista"
      ]
    },
    {
      "cell_type": "code",
      "metadata": {
        "id": "2qze7BYI8SA-"
      },
      "source": [
        "paises = [p.capitalize() for p in paises]\r\n",
        "paises"
      ],
      "execution_count": null,
      "outputs": []
    },
    {
      "cell_type": "code",
      "metadata": {
        "id": "haPXqXKd8ubg"
      },
      "source": [
        "cuadrado = [x**2 for x in range(2,10)]\r\n",
        "cuadrado"
      ],
      "execution_count": null,
      "outputs": []
    },
    {
      "cell_type": "markdown",
      "metadata": {
        "id": "-q404mPK-CLv"
      },
      "source": [
        "podemos además usar una condición"
      ]
    },
    {
      "cell_type": "code",
      "metadata": {
        "id": "JauKNXG_9kZ4"
      },
      "source": [
        "multiplos = [n for n in range(1,40) if n % 4 == 0]\r\n",
        "multiplos"
      ],
      "execution_count": null,
      "outputs": []
    },
    {
      "cell_type": "markdown",
      "metadata": {
        "id": "1llhRpDM_cSG"
      },
      "source": [
        "y es posible también hacer ciclos anidados"
      ]
    },
    {
      "cell_type": "code",
      "metadata": {
        "id": "vwlHQtae-ZOJ"
      },
      "source": [
        "combinaciones = [(i, j) for i in range(1,7) for j in range(1,7)]\r\n",
        "len(combinaciones)"
      ],
      "execution_count": null,
      "outputs": []
    },
    {
      "cell_type": "markdown",
      "metadata": {
        "id": "ynk7xpTsChFQ"
      },
      "source": [
        "## Diccionarios"
      ]
    },
    {
      "cell_type": "code",
      "metadata": {
        "id": "VY_txt3tCgkf"
      },
      "source": [
        "cubos = {x : x**3 for x in range (2,10)}\r\n",
        "cubos"
      ],
      "execution_count": null,
      "outputs": []
    },
    {
      "cell_type": "code",
      "metadata": {
        "id": "J3SeE3qfVxGd"
      },
      "source": [
        "cubos[5]"
      ],
      "execution_count": null,
      "outputs": []
    }
  ]
}