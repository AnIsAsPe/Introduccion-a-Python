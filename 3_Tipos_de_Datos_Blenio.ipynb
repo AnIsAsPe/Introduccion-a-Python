{
  "nbformat": 4,
  "nbformat_minor": 0,
  "metadata": {
    "kernelspec": {
      "display_name": "Python 3",
      "language": "python",
      "name": "python3"
    },
    "language_info": {
      "codemirror_mode": {
        "name": "ipython",
        "version": 3
      },
      "file_extension": ".py",
      "mimetype": "text/x-python",
      "name": "python",
      "nbconvert_exporter": "python",
      "pygments_lexer": "ipython3",
      "version": "3.8.2"
    },
    "colab": {
      "name": "3. Tipos de Datos Blenio.ipynb",
      "provenance": [],
      "collapsed_sections": [
        "_t5KjXuvImuX",
        "RebFS1ijImuX",
        "v2rKsAR6ImuX",
        "W0dxAopEImuX",
        "8aZeRnlT3_4Q",
        "P6eV57P-ImuX",
        "Qp-6Ef3tImuY",
        "6wgiMvlXImuY",
        "MAy4-S6OImuY",
        "yOxyLJYjImuY"
      ],
      "toc_visible": true,
      "include_colab_link": true
    }
  },
  "cells": [
    {
      "cell_type": "markdown",
      "metadata": {
        "id": "view-in-github",
        "colab_type": "text"
      },
      "source": [
        "<a href=\"https://colab.research.google.com/github/AnIsAsPe/Introduccion-a-Python/blob/main/3_Tipos_de_Datos_Blenio.ipynb\" target=\"_parent\"><img src=\"https://colab.research.google.com/assets/colab-badge.svg\" alt=\"Open In Colab\"/></a>"
      ]
    },
    {
      "cell_type": "code",
      "metadata": {
        "id": "Hq8mFDoKw5rz"
      },
      "source": [
        "mensaje = \"Bienvenido a bordo\"\r\n",
        "n = 5\r\n",
        "pi = 3.1416\r\n",
        "aprobo = False"
      ],
      "execution_count": null,
      "outputs": []
    },
    {
      "cell_type": "code",
      "metadata": {
        "colab": {
          "base_uri": "https://localhost:8080/"
        },
        "id": "y15Xar86KJVX",
        "outputId": "b7648061-c1aa-46a7-9c52-e6251eb70505"
      },
      "source": [
        "print(type(mensaje))"
      ],
      "execution_count": null,
      "outputs": [
        {
          "output_type": "stream",
          "text": [
            "<class 'str'>\n"
          ],
          "name": "stdout"
        }
      ]
    },
    {
      "cell_type": "markdown",
      "metadata": {
        "id": "_t5KjXuvImuX"
      },
      "source": [
        "## Cadenas (str)\n"
      ]
    },
    {
      "cell_type": "code",
      "metadata": {
        "colab": {
          "base_uri": "https://localhost:8080/"
        },
        "id": "xgJKMzbVVAe0",
        "outputId": "ee073343-367a-40ec-dbf8-a0cdfc07b894"
      },
      "source": [
        "txt1 = \"Pedro afirmó \\\"no estoy de acuerdo\\\" y luego salió.\"\r\n",
        "print(txt1)"
      ],
      "execution_count": null,
      "outputs": [
        {
          "output_type": "stream",
          "text": [
            "Pedro afirmó \"no estoy de acuerdo\" y luego salió.\n"
          ],
          "name": "stdout"
        }
      ]
    },
    {
      "cell_type": "code",
      "metadata": {
        "colab": {
          "base_uri": "https://localhost:8080/"
        },
        "id": "pReeGWpbW7Lk",
        "outputId": "490baa41-040a-40c2-a93b-b1eaf8e81d1d"
      },
      "source": [
        "txt2 = 'Pedro afirmó \"no estoy de acuerdo\" y luego salió.'\r\n",
        "print(txt2)"
      ],
      "execution_count": null,
      "outputs": [
        {
          "output_type": "stream",
          "text": [
            "Pedro afirmó \"no estoy de acuerdo\" y luego salió.\n"
          ],
          "name": "stdout"
        }
      ]
    },
    {
      "cell_type": "code",
      "metadata": {
        "colab": {
          "base_uri": "https://localhost:8080/"
        },
        "id": "IrXuQ0XYXJ3w",
        "outputId": "7f2a1695-3f32-4091-daa4-ae5199248e31"
      },
      "source": [
        "txt1 == txt2"
      ],
      "execution_count": null,
      "outputs": [
        {
          "output_type": "execute_result",
          "data": {
            "text/plain": [
              "True"
            ]
          },
          "metadata": {
            "tags": []
          },
          "execution_count": 6
        }
      ]
    },
    {
      "cell_type": "markdown",
      "metadata": {
        "id": "Fk04jsjgRUjN"
      },
      "source": [
        "Veamos algunos ejemplos de cómo podemos manipular texto con Python"
      ]
    },
    {
      "cell_type": "code",
      "metadata": {
        "colab": {
          "base_uri": "https://localhost:8080/",
          "height": 35
        },
        "id": "5MOE0fEXQwlL",
        "outputId": "125ac6af-f76a-4667-ff52-55165965621c"
      },
      "source": [
        "3 * 'a' + 'bcd'"
      ],
      "execution_count": null,
      "outputs": [
        {
          "output_type": "execute_result",
          "data": {
            "application/vnd.google.colaboratory.intrinsic+json": {
              "type": "string"
            },
            "text/plain": [
              "'aaabcd'"
            ]
          },
          "metadata": {
            "tags": []
          },
          "execution_count": 7
        }
      ]
    },
    {
      "cell_type": "code",
      "metadata": {
        "colab": {
          "base_uri": "https://localhost:8080/",
          "height": 35
        },
        "id": "aO2UkQZna6wh",
        "outputId": "e453df21-4a77-4e5a-d26a-da2bd7dd0995"
      },
      "source": [
        "txt3 = ' Enseguida, se fueron todos'\r\n",
        "txt2 + txt3"
      ],
      "execution_count": null,
      "outputs": [
        {
          "output_type": "execute_result",
          "data": {
            "application/vnd.google.colaboratory.intrinsic+json": {
              "type": "string"
            },
            "text/plain": [
              "'Pedro afirmó \"no estoy de acuerdo\" y luego salió. Enseguida, se fueron todos'"
            ]
          },
          "metadata": {
            "tags": []
          },
          "execution_count": 8
        }
      ]
    },
    {
      "cell_type": "code",
      "metadata": {
        "id": "l-r6L4LbImuX",
        "colab": {
          "base_uri": "https://localhost:8080/"
        },
        "outputId": "c3c47e5c-7932-41dc-d2a1-a0605fcab5f7"
      },
      "source": [
        "len(txt2)"
      ],
      "execution_count": null,
      "outputs": [
        {
          "output_type": "execute_result",
          "data": {
            "text/plain": [
              "49"
            ]
          },
          "metadata": {
            "tags": []
          },
          "execution_count": 9
        }
      ]
    },
    {
      "cell_type": "code",
      "metadata": {
        "id": "b6W5TOwaLsMv"
      },
      "source": [
        "txt2 = txt2.lower()"
      ],
      "execution_count": null,
      "outputs": []
    },
    {
      "cell_type": "code",
      "metadata": {
        "colab": {
          "base_uri": "https://localhost:8080/",
          "height": 35
        },
        "id": "yFz58q8NMmZe",
        "outputId": "672305b2-b7a8-42c5-93e8-d858ade0c5ad"
      },
      "source": [
        "txt2"
      ],
      "execution_count": null,
      "outputs": [
        {
          "output_type": "execute_result",
          "data": {
            "application/vnd.google.colaboratory.intrinsic+json": {
              "type": "string"
            },
            "text/plain": [
              "'pedro afirmó \"no estoy de acuerdo\" y luego salió.'"
            ]
          },
          "metadata": {
            "tags": []
          },
          "execution_count": 15
        }
      ]
    },
    {
      "cell_type": "code",
      "metadata": {
        "colab": {
          "base_uri": "https://localhost:8080/"
        },
        "id": "NN_G4rkvTU4F",
        "outputId": "dd7f32e2-d4e3-429a-f64d-3fa87905c27a"
      },
      "source": [
        "print(txt2.upper())"
      ],
      "execution_count": null,
      "outputs": [
        {
          "output_type": "stream",
          "text": [
            "PEDRO AFIRMÓ \"NO ESTOY DE ACUERDO\" Y LUEGO SALIÓ.\n"
          ],
          "name": "stdout"
        }
      ]
    },
    {
      "cell_type": "markdown",
      "metadata": {
        "id": "6HfJcz2wRuHi"
      },
      "source": [
        "###Indexar y segmentar cadenas de texto"
      ]
    },
    {
      "cell_type": "code",
      "metadata": {
        "id": "bwbYrtbeImuX",
        "colab": {
          "base_uri": "https://localhost:8080/"
        },
        "outputId": "e898aad2-b581-4c03-e3eb-dda39cf4bf8d"
      },
      "source": [
        "txt2[0], txt2[1], txt2[2], txt2[3], txt2[4]"
      ],
      "execution_count": null,
      "outputs": [
        {
          "output_type": "execute_result",
          "data": {
            "text/plain": [
              "('p', 'e', 'd', 'r', 'o')"
            ]
          },
          "metadata": {
            "tags": []
          },
          "execution_count": 16
        }
      ]
    },
    {
      "cell_type": "code",
      "metadata": {
        "id": "84KzIY0wImuX",
        "colab": {
          "base_uri": "https://localhost:8080/",
          "height": 35
        },
        "outputId": "a33bf4f3-ce3c-4f4a-b8d4-77f1c87d17a6"
      },
      "source": [
        "txt2[0:5]"
      ],
      "execution_count": null,
      "outputs": [
        {
          "output_type": "execute_result",
          "data": {
            "application/vnd.google.colaboratory.intrinsic+json": {
              "type": "string"
            },
            "text/plain": [
              "'pedro'"
            ]
          },
          "metadata": {
            "tags": []
          },
          "execution_count": 17
        }
      ]
    },
    {
      "cell_type": "code",
      "metadata": {
        "colab": {
          "base_uri": "https://localhost:8080/"
        },
        "id": "jmPD7V-ESI21",
        "outputId": "62548614-1ce2-44a8-a47a-05ee79bb2913"
      },
      "source": [
        "txt2.index('e')"
      ],
      "execution_count": null,
      "outputs": [
        {
          "output_type": "execute_result",
          "data": {
            "text/plain": [
              "1"
            ]
          },
          "metadata": {
            "tags": []
          },
          "execution_count": 18
        }
      ]
    },
    {
      "cell_type": "code",
      "metadata": {
        "id": "AgakmSuqImuX",
        "colab": {
          "base_uri": "https://localhost:8080/",
          "height": 35
        },
        "outputId": "3b75d080-dadc-4b0d-b466-6a47a082cc77"
      },
      "source": [
        "txt2[:5]"
      ],
      "execution_count": null,
      "outputs": [
        {
          "output_type": "execute_result",
          "data": {
            "application/vnd.google.colaboratory.intrinsic+json": {
              "type": "string"
            },
            "text/plain": [
              "'pedro'"
            ]
          },
          "metadata": {
            "tags": []
          },
          "execution_count": 21
        }
      ]
    },
    {
      "cell_type": "code",
      "metadata": {
        "id": "49j8PDcQImuX",
        "colab": {
          "base_uri": "https://localhost:8080/",
          "height": 35
        },
        "outputId": "531f6208-b8fc-448f-aa7e-4de43d7b5596"
      },
      "source": [
        "txt2[-6:]"
      ],
      "execution_count": null,
      "outputs": [
        {
          "output_type": "execute_result",
          "data": {
            "application/vnd.google.colaboratory.intrinsic+json": {
              "type": "string"
            },
            "text/plain": [
              "'salió.'"
            ]
          },
          "metadata": {
            "tags": []
          },
          "execution_count": 22
        }
      ]
    },
    {
      "cell_type": "code",
      "metadata": {
        "colab": {
          "base_uri": "https://localhost:8080/",
          "height": 35
        },
        "id": "5GbC4VKjdChY",
        "outputId": "7eae0ea9-ec6e-41ef-9d89-3c2d99766fab"
      },
      "source": [
        "txt2[:5] + txt2[-7:]"
      ],
      "execution_count": null,
      "outputs": [
        {
          "output_type": "execute_result",
          "data": {
            "application/vnd.google.colaboratory.intrinsic+json": {
              "type": "string"
            },
            "text/plain": [
              "'pedro salió.'"
            ]
          },
          "metadata": {
            "tags": []
          },
          "execution_count": 23
        }
      ]
    },
    {
      "cell_type": "code",
      "metadata": {
        "id": "Vpn49ln9ImuX",
        "colab": {
          "base_uri": "https://localhost:8080/",
          "height": 35
        },
        "outputId": "a048e337-b693-4eca-be97-f5375fbd2032"
      },
      "source": [
        "txt2[:]"
      ],
      "execution_count": null,
      "outputs": [
        {
          "output_type": "execute_result",
          "data": {
            "application/vnd.google.colaboratory.intrinsic+json": {
              "type": "string"
            },
            "text/plain": [
              "'pedro afirmó \"no estoy de acuerdo\" y luego salió.'"
            ]
          },
          "metadata": {
            "tags": []
          },
          "execution_count": 24
        }
      ]
    },
    {
      "cell_type": "code",
      "metadata": {
        "colab": {
          "base_uri": "https://localhost:8080/",
          "height": 167
        },
        "id": "tOGWVi8IYcvc",
        "outputId": "01bf3aa9-df57-4cb4-8a78-4bde650ef83e"
      },
      "source": [
        "txt2[-1] = ','   # acuérdate que las cadenas de texto son \"inmutables\""
      ],
      "execution_count": null,
      "outputs": [
        {
          "output_type": "error",
          "ename": "TypeError",
          "evalue": "ignored",
          "traceback": [
            "\u001b[0;31m---------------------------------------------------------------------------\u001b[0m",
            "\u001b[0;31mTypeError\u001b[0m                                 Traceback (most recent call last)",
            "\u001b[0;32m<ipython-input-25-db823f597f04>\u001b[0m in \u001b[0;36m<module>\u001b[0;34m()\u001b[0m\n\u001b[0;32m----> 1\u001b[0;31m \u001b[0mtxt2\u001b[0m\u001b[0;34m[\u001b[0m\u001b[0;34m-\u001b[0m\u001b[0;36m1\u001b[0m\u001b[0;34m]\u001b[0m \u001b[0;34m=\u001b[0m \u001b[0;34m','\u001b[0m   \u001b[0;31m# acuérdate que las cadenas de texto son \"inmutables\"\u001b[0m\u001b[0;34m\u001b[0m\u001b[0;34m\u001b[0m\u001b[0m\n\u001b[0m",
            "\u001b[0;31mTypeError\u001b[0m: 'str' object does not support item assignment"
          ]
        }
      ]
    },
    {
      "cell_type": "code",
      "metadata": {
        "id": "aipKBzHyTXr6"
      },
      "source": [
        "txt2 = txt2.replace( 'no','')   # ¿no dijimos que las cadenas eran inmutables?"
      ],
      "execution_count": null,
      "outputs": []
    },
    {
      "cell_type": "code",
      "metadata": {
        "colab": {
          "base_uri": "https://localhost:8080/",
          "height": 35
        },
        "id": "KIF7qbSJO-M-",
        "outputId": "605fa3d0-6533-4910-d1a7-15999ffd849e"
      },
      "source": [
        "txt2"
      ],
      "execution_count": null,
      "outputs": [
        {
          "output_type": "execute_result",
          "data": {
            "application/vnd.google.colaboratory.intrinsic+json": {
              "type": "string"
            },
            "text/plain": [
              "'pedro afirmó \" estoy de acuerdo\" y luego salió.'"
            ]
          },
          "metadata": {
            "tags": []
          },
          "execution_count": 32
        }
      ]
    },
    {
      "cell_type": "code",
      "metadata": {
        "colab": {
          "base_uri": "https://localhost:8080/"
        },
        "id": "LRhNCJ2FZAhS",
        "outputId": "acd1ef4e-8c8e-458f-c234-0489b7e8c401"
      },
      "source": [
        "help(txt2.replace)"
      ],
      "execution_count": null,
      "outputs": [
        {
          "output_type": "stream",
          "text": [
            "Help on built-in function replace:\n",
            "\n",
            "replace(...) method of builtins.str instance\n",
            "    S.replace(old, new[, count]) -> str\n",
            "    \n",
            "    Return a copy of S with all occurrences of substring\n",
            "    old replaced by new.  If the optional argument count is\n",
            "    given, only the first count occurrences are replaced.\n",
            "\n"
          ],
          "name": "stdout"
        }
      ]
    },
    {
      "cell_type": "markdown",
      "metadata": {
        "id": "AC4xN48KZDD6"
      },
      "source": [
        "el método replace() regresa una copia"
      ]
    },
    {
      "cell_type": "markdown",
      "metadata": {
        "id": "RebFS1ijImuX"
      },
      "source": [
        "## Listas\n"
      ]
    },
    {
      "cell_type": "code",
      "metadata": {
        "colab": {
          "base_uri": "https://localhost:8080/"
        },
        "id": "3I3t2BhgbhWd",
        "outputId": "d4d3d099-ecaf-49bc-cab7-e673d889f31c"
      },
      "source": [
        "vocales = list('hola')\r\n",
        "vocales"
      ],
      "execution_count": null,
      "outputs": [
        {
          "output_type": "execute_result",
          "data": {
            "text/plain": [
              "['h', 'o', 'l', 'a']"
            ]
          },
          "metadata": {
            "tags": []
          },
          "execution_count": 33
        }
      ]
    },
    {
      "cell_type": "code",
      "metadata": {
        "id": "bBjlp4bpImuX",
        "colab": {
          "base_uri": "https://localhost:8080/"
        },
        "outputId": "de5e6c26-47de-48f2-f5bb-799d6866a43a"
      },
      "source": [
        "l = [ 1, 'hola', 3.4, 'sapo']\n",
        "type(l)"
      ],
      "execution_count": null,
      "outputs": [
        {
          "output_type": "execute_result",
          "data": {
            "text/plain": [
              "list"
            ]
          },
          "metadata": {
            "tags": []
          },
          "execution_count": 34
        }
      ]
    },
    {
      "cell_type": "markdown",
      "metadata": {
        "id": "dnoBTMRJd-xp"
      },
      "source": [
        "### Indexar y segmentar elementos de una lista"
      ]
    },
    {
      "cell_type": "code",
      "metadata": {
        "colab": {
          "base_uri": "https://localhost:8080/",
          "height": 35
        },
        "id": "7IfWeybfd1xB",
        "outputId": "e1403baa-eb74-4ec3-8f71-85a97cacddac"
      },
      "source": [
        "l[1] "
      ],
      "execution_count": null,
      "outputs": [
        {
          "output_type": "execute_result",
          "data": {
            "application/vnd.google.colaboratory.intrinsic+json": {
              "type": "string"
            },
            "text/plain": [
              "'hola'"
            ]
          },
          "metadata": {
            "tags": []
          },
          "execution_count": 35
        }
      ]
    },
    {
      "cell_type": "code",
      "metadata": {
        "id": "ZM4cE4_7ImuX",
        "colab": {
          "base_uri": "https://localhost:8080/"
        },
        "outputId": "5490fb45-d0f0-42e5-cca8-7812ad33cec3"
      },
      "source": [
        "l[-2]"
      ],
      "execution_count": null,
      "outputs": [
        {
          "output_type": "execute_result",
          "data": {
            "text/plain": [
              "3.4"
            ]
          },
          "metadata": {
            "tags": []
          },
          "execution_count": 36
        }
      ]
    },
    {
      "cell_type": "code",
      "metadata": {
        "colab": {
          "base_uri": "https://localhost:8080/"
        },
        "id": "Rjx1hsUWeIvw",
        "outputId": "3d090f5e-b4a6-43f3-959e-81c3301a451a"
      },
      "source": [
        "l[1:4]"
      ],
      "execution_count": null,
      "outputs": [
        {
          "output_type": "execute_result",
          "data": {
            "text/plain": [
              "['hola', 3.4, 'sapo']"
            ]
          },
          "metadata": {
            "tags": []
          },
          "execution_count": 38
        }
      ]
    },
    {
      "cell_type": "code",
      "metadata": {
        "colab": {
          "base_uri": "https://localhost:8080/"
        },
        "id": "z0H7BUbGoKHh",
        "outputId": "f6d173b1-c43b-43d3-af51-011b9c806681"
      },
      "source": [
        "l.index(3.4)"
      ],
      "execution_count": null,
      "outputs": [
        {
          "output_type": "execute_result",
          "data": {
            "text/plain": [
              "2"
            ]
          },
          "metadata": {
            "tags": []
          },
          "execution_count": 39
        }
      ]
    },
    {
      "cell_type": "code",
      "metadata": {
        "colab": {
          "base_uri": "https://localhost:8080/"
        },
        "id": "YzAeYj1lQVnz",
        "outputId": "6a0605db-e8e9-4cd1-8f49-2fa15598ae91"
      },
      "source": [
        "range(5, 10)"
      ],
      "execution_count": null,
      "outputs": [
        {
          "output_type": "execute_result",
          "data": {
            "text/plain": [
              "range(5, 10)"
            ]
          },
          "metadata": {
            "tags": []
          },
          "execution_count": 42
        }
      ]
    },
    {
      "cell_type": "code",
      "metadata": {
        "id": "yvWfSSj_-KTD",
        "colab": {
          "base_uri": "https://localhost:8080/"
        },
        "outputId": "0dd65a12-6168-4d5c-9ea6-7bd832f99d97"
      },
      "source": [
        "l2= list(range(5,10))\n",
        "l2"
      ],
      "execution_count": null,
      "outputs": [
        {
          "output_type": "execute_result",
          "data": {
            "text/plain": [
              "[0, 1, 2, 3, 4]"
            ]
          },
          "metadata": {
            "tags": []
          },
          "execution_count": 44
        }
      ]
    },
    {
      "cell_type": "markdown",
      "metadata": {
        "id": "Lzc8CYjEImuX"
      },
      "source": [
        "Las listas juegan un rol muy importante en Python y son, por ejemplo, usadas en bucles y otras estructuras de control de flujo"
      ]
    },
    {
      "cell_type": "markdown",
      "metadata": {
        "id": "v2rKsAR6ImuX"
      },
      "source": [
        "### Agregando  y modificando elementos de listas"
      ]
    },
    {
      "cell_type": "code",
      "metadata": {
        "id": "sBD-uedeImuX",
        "colab": {
          "base_uri": "https://localhost:8080/"
        },
        "outputId": "32800ef0-35d3-406e-8764-c8867d433e43"
      },
      "source": [
        "# crea una nueva lista vacía\n",
        "l = []\n",
        "\n",
        "# agrega un elemento a la lista, usando `append`\n",
        "l.append(\"1\")\n",
        "l.append(\"2\")\n",
        "l.append(\"3\")\n",
        "\n",
        "l"
      ],
      "execution_count": null,
      "outputs": [
        {
          "output_type": "execute_result",
          "data": {
            "text/plain": [
              "['1', '2', '3']"
            ]
          },
          "metadata": {
            "tags": []
          },
          "execution_count": 49
        }
      ]
    },
    {
      "cell_type": "code",
      "metadata": {
        "colab": {
          "base_uri": "https://localhost:8080/"
        },
        "id": "AsnlyJxKh4ZQ",
        "outputId": "df86f20f-b03d-4860-c317-aae26417c9be"
      },
      "source": [
        "l1 = ['4', '9', '1']\r\n",
        "l + l1"
      ],
      "execution_count": null,
      "outputs": [
        {
          "output_type": "execute_result",
          "data": {
            "text/plain": [
              "['1', '2', '3', '4', '9', '1']"
            ]
          },
          "metadata": {
            "tags": []
          },
          "execution_count": 50
        }
      ]
    },
    {
      "cell_type": "code",
      "metadata": {
        "colab": {
          "base_uri": "https://localhost:8080/"
        },
        "id": "X-xa4TAnRuKT",
        "outputId": "af496274-3a23-46b5-c2db-4d3e7b5bd6e0"
      },
      "source": [
        "l"
      ],
      "execution_count": null,
      "outputs": [
        {
          "output_type": "execute_result",
          "data": {
            "text/plain": [
              "['1', '2', '3']"
            ]
          },
          "metadata": {
            "tags": []
          },
          "execution_count": 51
        }
      ]
    },
    {
      "cell_type": "code",
      "metadata": {
        "colab": {
          "base_uri": "https://localhost:8080/"
        },
        "id": "y2L3gTWSgrQo",
        "outputId": "379fc167-b842-48ce-dbd4-92a64fb33e36"
      },
      "source": [
        "# añade una secuencia de elementos\r\n",
        "l.extend(['3', '5','4']) \r\n",
        "l"
      ],
      "execution_count": null,
      "outputs": [
        {
          "output_type": "execute_result",
          "data": {
            "text/plain": [
              "['1', '2', '3', '3', '5', '4']"
            ]
          },
          "metadata": {
            "tags": []
          },
          "execution_count": 52
        }
      ]
    },
    {
      "cell_type": "code",
      "metadata": {
        "id": "_U6k7j9SImuX",
        "colab": {
          "base_uri": "https://localhost:8080/"
        },
        "outputId": "9863387e-beea-444c-fe8b-6d69b7f42336"
      },
      "source": [
        "# modifica un elemento de la lista\n",
        "l[0] = '5'\n",
        "l"
      ],
      "execution_count": null,
      "outputs": [
        {
          "output_type": "execute_result",
          "data": {
            "text/plain": [
              "['5', '2', '3', '3', '5', '4']"
            ]
          },
          "metadata": {
            "tags": []
          },
          "execution_count": 53
        }
      ]
    },
    {
      "cell_type": "code",
      "metadata": {
        "colab": {
          "base_uri": "https://localhost:8080/"
        },
        "id": "-Cl8X8-js0TH",
        "outputId": "9adab0db-a554-4c64-a785-428b59d537d2"
      },
      "source": [
        "l.count('5')"
      ],
      "execution_count": null,
      "outputs": [
        {
          "output_type": "execute_result",
          "data": {
            "text/plain": [
              "2"
            ]
          },
          "metadata": {
            "tags": []
          },
          "execution_count": 54
        }
      ]
    },
    {
      "cell_type": "markdown",
      "metadata": {
        "id": "W0dxAopEImuX"
      },
      "source": [
        "## Tuplas\n",
        "\n"
      ]
    },
    {
      "cell_type": "code",
      "metadata": {
        "colab": {
          "base_uri": "https://localhost:8080/"
        },
        "id": "EA_MY5oIkF60",
        "outputId": "f32d7436-6bec-4728-ecb8-7745e1f0bfae"
      },
      "source": [
        "punto = (10, 20)\r\n",
        "punto"
      ],
      "execution_count": null,
      "outputs": [
        {
          "output_type": "execute_result",
          "data": {
            "text/plain": [
              "(10, 20)"
            ]
          },
          "metadata": {
            "tags": []
          },
          "execution_count": 70
        }
      ]
    },
    {
      "cell_type": "code",
      "metadata": {
        "colab": {
          "base_uri": "https://localhost:8080/"
        },
        "id": "lfQPB42umrYf",
        "outputId": "e1430de1-a412-4398-c6ce-4628bcd0ef57"
      },
      "source": [
        "ficha = ('Juan', 3, False,  ['a', 'e', 'i'])\r\n",
        "ficha"
      ],
      "execution_count": null,
      "outputs": [
        {
          "output_type": "execute_result",
          "data": {
            "text/plain": [
              "('Juan', 3, False, ['a', 'e', 'i'])"
            ]
          },
          "metadata": {
            "tags": []
          },
          "execution_count": 73
        }
      ]
    },
    {
      "cell_type": "code",
      "metadata": {
        "colab": {
          "base_uri": "https://localhost:8080/"
        },
        "id": "EV7FqDm8SuU5",
        "outputId": "f3dfde37-a43f-4273-87be-e759f5342b8d"
      },
      "source": [
        "type(ficha[-1][-1])"
      ],
      "execution_count": null,
      "outputs": [
        {
          "output_type": "execute_result",
          "data": {
            "text/plain": [
              "str"
            ]
          },
          "metadata": {
            "tags": []
          },
          "execution_count": 76
        }
      ]
    },
    {
      "cell_type": "code",
      "metadata": {
        "id": "eNO_u_VrImuX",
        "colab": {
          "base_uri": "https://localhost:8080/"
        },
        "outputId": "7a81a938-9e00-41bf-da3e-b37d1dec2288"
      },
      "source": [
        "type(punto)"
      ],
      "execution_count": null,
      "outputs": [
        {
          "output_type": "execute_result",
          "data": {
            "text/plain": [
              "tuple"
            ]
          },
          "metadata": {
            "tags": []
          },
          "execution_count": 77
        }
      ]
    },
    {
      "cell_type": "code",
      "metadata": {
        "colab": {
          "base_uri": "https://localhost:8080/"
        },
        "id": "onhaqKIpVoos",
        "outputId": "60e35306-80f9-49ba-ca19-9b794ab26639"
      },
      "source": [
        "l"
      ],
      "execution_count": null,
      "outputs": [
        {
          "output_type": "execute_result",
          "data": {
            "text/plain": [
              "['5', '2', '3', '3', '5', '4']"
            ]
          },
          "metadata": {
            "tags": []
          },
          "execution_count": 78
        }
      ]
    },
    {
      "cell_type": "code",
      "metadata": {
        "colab": {
          "base_uri": "https://localhost:8080/"
        },
        "id": "ahsLnpM6kLzo",
        "outputId": "b1d0a659-77ee-4b79-97c4-a243b4560806"
      },
      "source": [
        "t = tuple(l)\r\n",
        "t"
      ],
      "execution_count": null,
      "outputs": [
        {
          "output_type": "execute_result",
          "data": {
            "text/plain": [
              "('5', '2', '3', '3', '5', '4')"
            ]
          },
          "metadata": {
            "tags": []
          },
          "execution_count": 79
        }
      ]
    },
    {
      "cell_type": "code",
      "metadata": {
        "colab": {
          "base_uri": "https://localhost:8080/"
        },
        "id": "RS9zcqm1n1kX",
        "outputId": "7ae27d29-0e0e-4f8b-cbe0-328fcfd18631"
      },
      "source": [
        "t.count('3')"
      ],
      "execution_count": null,
      "outputs": [
        {
          "output_type": "execute_result",
          "data": {
            "text/plain": [
              "2"
            ]
          },
          "metadata": {
            "tags": []
          },
          "execution_count": 80
        }
      ]
    },
    {
      "cell_type": "markdown",
      "metadata": {
        "id": "_YUxCluNrQgn"
      },
      "source": [
        "### Indexar y segmentar tuplas"
      ]
    },
    {
      "cell_type": "code",
      "metadata": {
        "colab": {
          "base_uri": "https://localhost:8080/"
        },
        "id": "8TgTaJlhkYZI",
        "outputId": "5cbe9a4e-cb86-431d-d826-ede4537e83b3"
      },
      "source": [
        "t[-3:]  #accedemos a los elementos igual que en las listas y las cadenas"
      ],
      "execution_count": null,
      "outputs": [
        {
          "output_type": "execute_result",
          "data": {
            "text/plain": [
              "('3', '5', '4')"
            ]
          },
          "metadata": {
            "tags": []
          },
          "execution_count": 81
        }
      ]
    },
    {
      "cell_type": "code",
      "metadata": {
        "colab": {
          "base_uri": "https://localhost:8080/"
        },
        "id": "AO_KOlxeoaPZ",
        "outputId": "5290c491-450f-4cc8-bf54-9a305f2c62ab"
      },
      "source": [
        "t.index('4')"
      ],
      "execution_count": null,
      "outputs": [
        {
          "output_type": "execute_result",
          "data": {
            "text/plain": [
              "5"
            ]
          },
          "metadata": {
            "tags": []
          },
          "execution_count": 83
        }
      ]
    },
    {
      "cell_type": "code",
      "metadata": {
        "colab": {
          "base_uri": "https://localhost:8080/",
          "height": 167
        },
        "id": "4OohMnX5T0r1",
        "outputId": "36881aa1-d9e9-43bb-883a-f795125d7a64"
      },
      "source": [
        "t[1] = 4  #error: las tuplas son inmutables"
      ],
      "execution_count": null,
      "outputs": [
        {
          "output_type": "error",
          "ename": "TypeError",
          "evalue": "ignored",
          "traceback": [
            "\u001b[0;31m---------------------------------------------------------------------------\u001b[0m",
            "\u001b[0;31mTypeError\u001b[0m                                 Traceback (most recent call last)",
            "\u001b[0;32m<ipython-input-80-b674d0908869>\u001b[0m in \u001b[0;36m<module>\u001b[0;34m()\u001b[0m\n\u001b[0;32m----> 1\u001b[0;31m \u001b[0mt\u001b[0m\u001b[0;34m[\u001b[0m\u001b[0;36m1\u001b[0m\u001b[0;34m]\u001b[0m \u001b[0;34m=\u001b[0m \u001b[0;36m4\u001b[0m  \u001b[0;31m#error: las tuplas son inmutables\u001b[0m\u001b[0;34m\u001b[0m\u001b[0;34m\u001b[0m\u001b[0m\n\u001b[0m",
            "\u001b[0;31mTypeError\u001b[0m: 'tuple' object does not support item assignment"
          ]
        }
      ]
    },
    {
      "cell_type": "markdown",
      "metadata": {
        "id": "ubZufFOdImuX"
      },
      "source": [
        "### Separar elementos de una tupla en distintas variables"
      ]
    },
    {
      "cell_type": "code",
      "metadata": {
        "colab": {
          "base_uri": "https://localhost:8080/"
        },
        "id": "7aa1F7prWP9z",
        "outputId": "62e9eb76-d502-4844-a823-bafde9da9327"
      },
      "source": [
        "punto"
      ],
      "execution_count": null,
      "outputs": [
        {
          "output_type": "execute_result",
          "data": {
            "text/plain": [
              "(10, 20)"
            ]
          },
          "metadata": {
            "tags": []
          },
          "execution_count": 84
        }
      ]
    },
    {
      "cell_type": "code",
      "metadata": {
        "id": "LqQ1KulUImuX",
        "colab": {
          "base_uri": "https://localhost:8080/"
        },
        "outputId": "dce8981c-fb86-4b32-9ff2-01b8e9586a83"
      },
      "source": [
        "x, y = punto\n",
        "\n",
        "print(\"x =\", x)\n",
        "print(\"y =\", y)"
      ],
      "execution_count": null,
      "outputs": [
        {
          "output_type": "stream",
          "text": [
            "x = 10\n",
            "y = 20\n"
          ],
          "name": "stdout"
        }
      ]
    },
    {
      "cell_type": "markdown",
      "metadata": {
        "id": "opnaO-8jtX83"
      },
      "source": [
        "# Conjuntos"
      ]
    },
    {
      "cell_type": "code",
      "metadata": {
        "colab": {
          "base_uri": "https://localhost:8080/"
        },
        "id": "dvSxg3lQteEf",
        "outputId": "5503effb-6d86-432d-f134-ea2fce7ef258"
      },
      "source": [
        "conjunto = {3, 2, 3, 7, 2, 6, 3}\r\n",
        "conjunto"
      ],
      "execution_count": null,
      "outputs": [
        {
          "output_type": "execute_result",
          "data": {
            "text/plain": [
              "{2, 3, 6, 7}"
            ]
          },
          "metadata": {
            "tags": []
          },
          "execution_count": 90
        }
      ]
    },
    {
      "cell_type": "code",
      "metadata": {
        "colab": {
          "base_uri": "https://localhost:8080/"
        },
        "id": "stogE3DcuP6Y",
        "outputId": "75c0f332-e0dd-4746-a814-4090085c23fe"
      },
      "source": [
        "1 in conjunto"
      ],
      "execution_count": null,
      "outputs": [
        {
          "output_type": "execute_result",
          "data": {
            "text/plain": [
              "False"
            ]
          },
          "metadata": {
            "tags": []
          },
          "execution_count": 91
        }
      ]
    },
    {
      "cell_type": "code",
      "metadata": {
        "colab": {
          "base_uri": "https://localhost:8080/"
        },
        "id": "3QUFK2jauToY",
        "outputId": "0cd04388-315c-4481-8a54-47d47c41fd1f"
      },
      "source": [
        "3 in conjunto"
      ],
      "execution_count": null,
      "outputs": [
        {
          "output_type": "execute_result",
          "data": {
            "text/plain": [
              "True"
            ]
          },
          "metadata": {
            "tags": []
          },
          "execution_count": 92
        }
      ]
    },
    {
      "cell_type": "code",
      "metadata": {
        "colab": {
          "base_uri": "https://localhost:8080/"
        },
        "id": "4jj4jXmXy2z0",
        "outputId": "42519f74-85bb-4d90-e317-ddc28a3bea3b"
      },
      "source": [
        "type(conjunto)"
      ],
      "execution_count": null,
      "outputs": [
        {
          "output_type": "execute_result",
          "data": {
            "text/plain": [
              "set"
            ]
          },
          "metadata": {
            "tags": []
          },
          "execution_count": 93
        }
      ]
    },
    {
      "cell_type": "code",
      "metadata": {
        "id": "U1KmjllhuWnm"
      },
      "source": [
        "A = {1, 2, 3, 4, 5, 6}\r\n",
        "B = {2, 4, 6, 8, 10, 12}"
      ],
      "execution_count": null,
      "outputs": []
    },
    {
      "cell_type": "code",
      "metadata": {
        "colab": {
          "base_uri": "https://localhost:8080/"
        },
        "id": "NJEBL-ApvEgn",
        "outputId": "882777b2-9619-4a33-c37a-bc5d38cbfb4d"
      },
      "source": [
        "# elementos que pertenecen a uno o a otro conjunto\r\n",
        "A | B"
      ],
      "execution_count": null,
      "outputs": [
        {
          "output_type": "execute_result",
          "data": {
            "text/plain": [
              "{1, 2, 3, 4, 5, 6, 8, 10, 12}"
            ]
          },
          "metadata": {
            "tags": []
          },
          "execution_count": 95
        }
      ]
    },
    {
      "cell_type": "code",
      "metadata": {
        "colab": {
          "base_uri": "https://localhost:8080/"
        },
        "id": "f7S0zNUeusDI",
        "outputId": "bce50a21-9db7-4529-ac93-f59d1ac4ce34"
      },
      "source": [
        "# elementos que pertenecen a los dos conjuntos\r\n",
        "A & B"
      ],
      "execution_count": null,
      "outputs": [
        {
          "output_type": "execute_result",
          "data": {
            "text/plain": [
              "{2, 4, 6}"
            ]
          },
          "metadata": {
            "tags": []
          },
          "execution_count": 96
        }
      ]
    },
    {
      "cell_type": "code",
      "metadata": {
        "colab": {
          "base_uri": "https://localhost:8080/"
        },
        "id": "7_68MgiiuvO3",
        "outputId": "b538b280-1bf5-41ad-b3c7-7bbf73a15096"
      },
      "source": [
        "# elementos de A que no pertenecen en B\r\n",
        "B - A"
      ],
      "execution_count": null,
      "outputs": [
        {
          "output_type": "execute_result",
          "data": {
            "text/plain": [
              "{8, 10, 12}"
            ]
          },
          "metadata": {
            "tags": []
          },
          "execution_count": 98
        }
      ]
    },
    {
      "cell_type": "code",
      "metadata": {
        "colab": {
          "base_uri": "https://localhost:8080/"
        },
        "id": "HBIPSjfDu2V_",
        "outputId": "21a5aa7b-9e5c-4303-c0b2-9ec1d1cbf214"
      },
      "source": [
        "# elementos que sólo están en uno de los dos conjuntos\r\n",
        "A ^ B"
      ],
      "execution_count": null,
      "outputs": [
        {
          "output_type": "execute_result",
          "data": {
            "text/plain": [
              "{1, 3, 5, 8, 10, 12}"
            ]
          },
          "metadata": {
            "tags": []
          },
          "execution_count": 99
        }
      ]
    },
    {
      "cell_type": "code",
      "metadata": {
        "id": "EP4lQKwevygp"
      },
      "source": [
        "C = {1, 2, 3}\r\n",
        "D = { 1, 2, 3, 4, 5}"
      ],
      "execution_count": null,
      "outputs": []
    },
    {
      "cell_type": "code",
      "metadata": {
        "colab": {
          "base_uri": "https://localhost:8080/"
        },
        "id": "a3OaRpKUvooT",
        "outputId": "a9e0c601-a342-4af9-d1c8-8824230ff33b"
      },
      "source": [
        "# ¿C es un subconjunto de D?\r\n",
        "C <= D"
      ],
      "execution_count": null,
      "outputs": [
        {
          "output_type": "execute_result",
          "data": {
            "text/plain": [
              "True"
            ]
          },
          "metadata": {
            "tags": []
          },
          "execution_count": 101
        }
      ]
    },
    {
      "cell_type": "code",
      "metadata": {
        "colab": {
          "base_uri": "https://localhost:8080/"
        },
        "id": "IOcu64gtwKRf",
        "outputId": "85b128bd-5a2d-4cb2-a3c4-75f9ca54d50b"
      },
      "source": [
        "# ¿D es subconjunto de C?\r\n",
        "D <= C"
      ],
      "execution_count": null,
      "outputs": [
        {
          "output_type": "execute_result",
          "data": {
            "text/plain": [
              "False"
            ]
          },
          "metadata": {
            "tags": []
          },
          "execution_count": 103
        }
      ]
    },
    {
      "cell_type": "code",
      "metadata": {
        "colab": {
          "base_uri": "https://localhost:8080/"
        },
        "id": "0t9qM9_GwCt_",
        "outputId": "33e4d5a4-1f61-456d-dc78-bf58aad7ac9a"
      },
      "source": [
        "type(C)"
      ],
      "execution_count": null,
      "outputs": [
        {
          "output_type": "execute_result",
          "data": {
            "text/plain": [
              "set"
            ]
          },
          "metadata": {
            "tags": []
          },
          "execution_count": 104
        }
      ]
    },
    {
      "cell_type": "markdown",
      "metadata": {
        "id": "8aZeRnlT3_4Q"
      },
      "source": [
        "# Diccionarios"
      ]
    },
    {
      "cell_type": "code",
      "metadata": {
        "colab": {
          "base_uri": "https://localhost:8080/"
        },
        "id": "DF6SMRSs3R5e",
        "outputId": "f7074b86-8b37-4892-edf6-3b19c2cf4943"
      },
      "source": [
        "habitacion = {'Patricia': 1023, 'Luis': 1025, 'Oscar':1063, 'Renata': 1245}\r\n",
        "\r\n",
        "habitacion['Patricia']"
      ],
      "execution_count": null,
      "outputs": [
        {
          "output_type": "execute_result",
          "data": {
            "text/plain": [
              "1023"
            ]
          },
          "metadata": {
            "tags": []
          },
          "execution_count": 105
        }
      ]
    },
    {
      "cell_type": "code",
      "metadata": {
        "colab": {
          "base_uri": "https://localhost:8080/"
        },
        "id": "FcerM30yY966",
        "outputId": "85572fbc-20a3-4fff-9ebe-d5a1f89d1695"
      },
      "source": [
        "habitacion.keys()"
      ],
      "execution_count": null,
      "outputs": [
        {
          "output_type": "execute_result",
          "data": {
            "text/plain": [
              "dict_keys(['Patricia', 'Luis', 'Oscar', 'Renata'])"
            ]
          },
          "metadata": {
            "tags": []
          },
          "execution_count": 106
        }
      ]
    },
    {
      "cell_type": "code",
      "metadata": {
        "colab": {
          "base_uri": "https://localhost:8080/"
        },
        "id": "I9nVDgcBZDr_",
        "outputId": "1c5b0aca-60b4-4931-9b61-24aa1a96a5e9"
      },
      "source": [
        "habitacion.values()"
      ],
      "execution_count": null,
      "outputs": [
        {
          "output_type": "execute_result",
          "data": {
            "text/plain": [
              "dict_values([1023, 1025, 1063, 1245])"
            ]
          },
          "metadata": {
            "tags": []
          },
          "execution_count": 108
        }
      ]
    },
    {
      "cell_type": "code",
      "metadata": {
        "colab": {
          "base_uri": "https://localhost:8080/"
        },
        "id": "98UYBMDc38EK",
        "outputId": "d3f02a6b-4797-4b99-f033-ce4cc4a0599f"
      },
      "source": [
        "miDiccionario = {'nombre': 'Maria', 'edad' : 20 , 'altura': 1.67 , 'menor': False}\n",
        "miDiccionario"
      ],
      "execution_count": null,
      "outputs": [
        {
          "output_type": "execute_result",
          "data": {
            "text/plain": [
              "{'altura': 1.67, 'edad': 20, 'menor': False, 'nombre': 'Maria'}"
            ]
          },
          "metadata": {
            "tags": []
          },
          "execution_count": 109
        }
      ]
    },
    {
      "cell_type": "code",
      "metadata": {
        "colab": {
          "base_uri": "https://localhost:8080/"
        },
        "id": "auBu8fvM4zWi",
        "outputId": "49d94800-bc5d-4921-ca93-1a367404b1ff"
      },
      "source": [
        "miDiccionario.keys()"
      ],
      "execution_count": null,
      "outputs": [
        {
          "output_type": "execute_result",
          "data": {
            "text/plain": [
              "dict_keys(['nombre', 'edad', 'altura', 'menor'])"
            ]
          },
          "metadata": {
            "tags": []
          },
          "execution_count": 110
        }
      ]
    },
    {
      "cell_type": "code",
      "metadata": {
        "colab": {
          "base_uri": "https://localhost:8080/"
        },
        "id": "pQeisVFs47vh",
        "outputId": "daeaaf0e-cf1e-4f8d-8da2-b9f34683a8b9"
      },
      "source": [
        "miDiccionario.values()"
      ],
      "execution_count": null,
      "outputs": [
        {
          "output_type": "execute_result",
          "data": {
            "text/plain": [
              "dict_values(['Maria', 20, 1.67, False])"
            ]
          },
          "metadata": {
            "tags": []
          },
          "execution_count": 111
        }
      ]
    },
    {
      "cell_type": "code",
      "metadata": {
        "colab": {
          "base_uri": "https://localhost:8080/",
          "height": 35
        },
        "id": "XPMUb-QV4wJU",
        "outputId": "3e4ad81d-a6a0-489b-a518-6da6b1673233"
      },
      "source": [
        "miDiccionario[\"nombre\"]"
      ],
      "execution_count": null,
      "outputs": [
        {
          "output_type": "execute_result",
          "data": {
            "application/vnd.google.colaboratory.intrinsic+json": {
              "type": "string"
            },
            "text/plain": [
              "'Maria'"
            ]
          },
          "metadata": {
            "tags": []
          },
          "execution_count": 112
        }
      ]
    },
    {
      "cell_type": "code",
      "metadata": {
        "colab": {
          "base_uri": "https://localhost:8080/"
        },
        "id": "1r1nU8Oj5AHy",
        "outputId": "d487c586-0d9d-49bf-beb6-651288204ba6"
      },
      "source": [
        "miDiccionario[\"nacionalidad\"] = \"Mexicana\"\n",
        "miDiccionario"
      ],
      "execution_count": null,
      "outputs": [
        {
          "output_type": "execute_result",
          "data": {
            "text/plain": [
              "{'altura': 1.67,\n",
              " 'edad': 20,\n",
              " 'menor': False,\n",
              " 'nacionalidad': 'Mexicana',\n",
              " 'nombre': 'Maria'}"
            ]
          },
          "metadata": {
            "tags": []
          },
          "execution_count": 113
        }
      ]
    },
    {
      "cell_type": "markdown",
      "metadata": {
        "id": "oFo6Dnyu_-nS"
      },
      "source": [
        "# Ejercicios"
      ]
    },
    {
      "cell_type": "code",
      "metadata": {
        "colab": {
          "base_uri": "https://localhost:8080/"
        },
        "id": "mXbsqBLUkzQ-",
        "outputId": "fc2216dc-898a-409c-d53b-892b94abcca5"
      },
      "source": [
        "categorias = {'comida':['tacos', 'tortas', 'ensalada', 'pasta'], \r\n",
        "              'colores': ('azul', 'blanco', 'amarillo'),\r\n",
        "              'vocales':list('aeiou'), 'secuencia': [1, 2, 3]}\r\n",
        "\r\n",
        "\r\n",
        "categorias"
      ],
      "execution_count": null,
      "outputs": [
        {
          "output_type": "execute_result",
          "data": {
            "text/plain": [
              "{'colores': ('azul', 'blanco', 'amarillo'),\n",
              " 'comida': ['tacos', 'tortas', 'ensalada', 'pasta'],\n",
              " 'secuencia': [1, 2, 3],\n",
              " 'vocales': ['a', 'e', 'i', 'o', 'u']}"
            ]
          },
          "metadata": {
            "tags": []
          },
          "execution_count": 128
        }
      ]
    },
    {
      "cell_type": "code",
      "metadata": {
        "colab": {
          "base_uri": "https://localhost:8080/"
        },
        "id": "P3p8N4pLumOB",
        "outputId": "d7c51372-9fc3-4721-c31f-1f22971008ea"
      },
      "source": [
        "len(set(list('reconocer')))"
      ],
      "execution_count": null,
      "outputs": [
        {
          "output_type": "execute_result",
          "data": {
            "text/plain": [
              "5"
            ]
          },
          "metadata": {
            "tags": []
          },
          "execution_count": 139
        }
      ]
    },
    {
      "cell_type": "code",
      "metadata": {
        "colab": {
          "base_uri": "https://localhost:8080/"
        },
        "id": "dWK8XTcLy3Ps",
        "outputId": "31328243-e083-405e-8ede-4b9b6be2f35c"
      },
      "source": [
        "set(list('reconocer'))"
      ],
      "execution_count": null,
      "outputs": [
        {
          "output_type": "execute_result",
          "data": {
            "text/plain": [
              "{'c', 'e', 'n', 'o', 'r'}"
            ]
          },
          "metadata": {
            "tags": []
          },
          "execution_count": 141
        }
      ]
    }
  ]
}