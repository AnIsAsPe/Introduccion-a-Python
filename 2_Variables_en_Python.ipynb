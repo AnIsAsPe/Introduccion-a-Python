{
  "nbformat": 4,
  "nbformat_minor": 0,
  "metadata": {
    "kernelspec": {
      "display_name": "Python 3",
      "language": "python",
      "name": "python3"
    },
    "language_info": {
      "codemirror_mode": {
        "name": "ipython",
        "version": 3
      },
      "file_extension": ".py",
      "mimetype": "text/x-python",
      "name": "python",
      "nbconvert_exporter": "python",
      "pygments_lexer": "ipython3",
      "version": "3.8.2"
    },
    "colab": {
      "name": "2. Variables en Python Blenio.ipynb",
      "provenance": [],
      "collapsed_sections": [],
      "toc_visible": true,
      "include_colab_link": true
    }
  },
  "cells": [
    {
      "cell_type": "markdown",
      "metadata": {
        "id": "view-in-github",
        "colab_type": "text"
      },
      "source": [
        "<a href=\"https://colab.research.google.com/github/AnIsAsPe/Introduccion-a-Python/blob/main/2_Variables_en_Python_Blenio.ipynb\" target=\"_parent\"><img src=\"https://colab.research.google.com/assets/colab-badge.svg\" alt=\"Open In Colab\"/></a>"
      ]
    },
    {
      "cell_type": "markdown",
      "metadata": {
        "id": "xOkPO9yBzqns"
      },
      "source": [
        "# Operador para asignar valores a variables"
      ]
    },
    {
      "cell_type": "code",
      "metadata": {
        "id": "lrpi592PzHY4"
      },
      "source": [
        "n = 17"
      ],
      "execution_count": null,
      "outputs": []
    },
    {
      "cell_type": "code",
      "metadata": {
        "colab": {
          "base_uri": "https://localhost:8080/"
        },
        "id": "18mjOsLg3eRZ",
        "outputId": "8a73d9cc-b2d7-4607-c046-3304544f36f0"
      },
      "source": [
        "print(n)"
      ],
      "execution_count": null,
      "outputs": [
        {
          "output_type": "stream",
          "text": [
            "17\n"
          ],
          "name": "stdout"
        }
      ]
    },
    {
      "cell_type": "code",
      "metadata": {
        "colab": {
          "base_uri": "https://localhost:8080/",
          "height": 132
        },
        "id": "o2vmVEltzK3s",
        "outputId": "d08cd36c-2ff5-4d0f-826d-585db9f28324"
      },
      "source": [
        "17 = n  #error"
      ],
      "execution_count": null,
      "outputs": [
        {
          "output_type": "error",
          "ename": "SyntaxError",
          "evalue": "ignored",
          "traceback": [
            "\u001b[0;36m  File \u001b[0;32m\"<ipython-input-49-884ffd512c18>\"\u001b[0;36m, line \u001b[0;32m1\u001b[0m\n\u001b[0;31m    17 = n  #error\u001b[0m\n\u001b[0m                  ^\u001b[0m\n\u001b[0;31mSyntaxError\u001b[0m\u001b[0;31m:\u001b[0m can't assign to literal\n"
          ]
        }
      ]
    },
    {
      "cell_type": "markdown",
      "metadata": {
        "id": "6RcenrQIzvSz"
      },
      "source": [
        "# Caracteristicas de los nombres de las variables"
      ]
    },
    {
      "cell_type": "markdown",
      "metadata": {
        "id": "coAN1GQJz2sS"
      },
      "source": [
        "## Sensible a mayúscualas y minúscualas"
      ]
    },
    {
      "cell_type": "code",
      "metadata": {
        "id": "IBWY__1MzX2k"
      },
      "source": [
        "edad = 18\r\n",
        "Edad = 23\r\n",
        "EDAD = 40"
      ],
      "execution_count": null,
      "outputs": []
    },
    {
      "cell_type": "code",
      "metadata": {
        "colab": {
          "base_uri": "https://localhost:8080/"
        },
        "id": "NMwiPr4dzhQl",
        "outputId": "e01ca639-6c7b-431a-a2a0-ddcfe46d3494"
      },
      "source": [
        "edad"
      ],
      "execution_count": null,
      "outputs": [
        {
          "output_type": "execute_result",
          "data": {
            "text/plain": [
              "18"
            ]
          },
          "metadata": {
            "tags": []
          },
          "execution_count": 52
        }
      ]
    },
    {
      "cell_type": "markdown",
      "metadata": {
        "id": "0_SIxZto0wf3"
      },
      "source": [
        "## Puede contener letras, números y algunos cáracteres especiales"
      ]
    },
    {
      "cell_type": "code",
      "metadata": {
        "id": "JJACRmfI0isT"
      },
      "source": [
        "Edad_2 = 45"
      ],
      "execution_count": null,
      "outputs": []
    },
    {
      "cell_type": "code",
      "metadata": {
        "colab": {
          "base_uri": "https://localhost:8080/",
          "height": 132
        },
        "id": "4lEbRpS60-tD",
        "outputId": "89ce0221-a4b1-42ad-a076-ec9707a5b6ee"
      },
      "source": [
        "Edad.2 = 45  #error"
      ],
      "execution_count": null,
      "outputs": [
        {
          "output_type": "error",
          "ename": "SyntaxError",
          "evalue": "ignored",
          "traceback": [
            "\u001b[0;36m  File \u001b[0;32m\"<ipython-input-54-38a57dda9f68>\"\u001b[0;36m, line \u001b[0;32m1\u001b[0m\n\u001b[0;31m    Edad.2 = 45  #error\u001b[0m\n\u001b[0m         ^\u001b[0m\n\u001b[0;31mSyntaxError\u001b[0m\u001b[0;31m:\u001b[0m invalid syntax\n"
          ]
        }
      ]
    },
    {
      "cell_type": "markdown",
      "metadata": {
        "id": "cy37zF6w06q9"
      },
      "source": [
        "## Debe comenzar por una letra"
      ]
    },
    {
      "cell_type": "code",
      "metadata": {
        "colab": {
          "base_uri": "https://localhost:8080/",
          "height": 132
        },
        "id": "eed-51eU0mj2",
        "outputId": "f48510c3-c68e-4243-9f00-cd0cbb92133f"
      },
      "source": [
        "3_Edad =  50  #error"
      ],
      "execution_count": null,
      "outputs": [
        {
          "output_type": "error",
          "ename": "SyntaxError",
          "evalue": "ignored",
          "traceback": [
            "\u001b[0;36m  File \u001b[0;32m\"<ipython-input-55-4e8e99c1fad1>\"\u001b[0;36m, line \u001b[0;32m1\u001b[0m\n\u001b[0;31m    3_Edad =  50  #error\u001b[0m\n\u001b[0m     ^\u001b[0m\n\u001b[0;31mSyntaxError\u001b[0m\u001b[0;31m:\u001b[0m invalid token\n"
          ]
        }
      ]
    },
    {
      "cell_type": "markdown",
      "metadata": {
        "id": "J-LlamgPwy9N"
      },
      "source": [
        "## Palabras reservadas\r\n",
        "Python reserva 33 palabras clave que no pueden ser usados como nombres de variables"
      ]
    },
    {
      "cell_type": "code",
      "metadata": {
        "colab": {
          "base_uri": "https://localhost:8080/"
        },
        "id": "T0qm9FHPzQ3e",
        "outputId": "011c02c6-18fe-4d4f-d178-1bdd57889801"
      },
      "source": [
        "import keyword\n",
        "\n",
        "for p in keyword.kwlist:\n",
        "  print(p)"
      ],
      "execution_count": null,
      "outputs": [
        {
          "output_type": "stream",
          "text": [
            "False\n",
            "None\n",
            "True\n",
            "and\n",
            "as\n",
            "assert\n",
            "break\n",
            "class\n",
            "continue\n",
            "def\n",
            "del\n",
            "elif\n",
            "else\n",
            "except\n",
            "finally\n",
            "for\n",
            "from\n",
            "global\n",
            "if\n",
            "import\n",
            "in\n",
            "is\n",
            "lambda\n",
            "nonlocal\n",
            "not\n",
            "or\n",
            "pass\n",
            "raise\n",
            "return\n",
            "try\n",
            "while\n",
            "with\n",
            "yield\n"
          ],
          "name": "stdout"
        }
      ]
    },
    {
      "cell_type": "code",
      "metadata": {
        "colab": {
          "base_uri": "https://localhost:8080/",
          "height": 132
        },
        "id": "yyzwAYO01uGy",
        "outputId": "98f7c74c-7321-4f0b-cb47-4ff19bc1965a"
      },
      "source": [
        "False = 2  #error"
      ],
      "execution_count": null,
      "outputs": [
        {
          "output_type": "error",
          "ename": "SyntaxError",
          "evalue": "ignored",
          "traceback": [
            "\u001b[0;36m  File \u001b[0;32m\"<ipython-input-57-bea384b8f062>\"\u001b[0;36m, line \u001b[0;32m1\u001b[0m\n\u001b[0;31m    False = 2  #error\u001b[0m\n\u001b[0m                     ^\u001b[0m\n\u001b[0;31mSyntaxError\u001b[0m\u001b[0;31m:\u001b[0m can't assign to keyword\n"
          ]
        }
      ]
    },
    {
      "cell_type": "markdown",
      "metadata": {
        "id": "Atjjjs051Ogs"
      },
      "source": [
        "## Se recomiendan nombres relacionados con los valores que se almacenan"
      ]
    },
    {
      "cell_type": "code",
      "metadata": {
        "id": "Hq8mFDoKw5rz"
      },
      "source": [
        "mensaje = \"Bienvenido a bordo\"\r\n",
        "n = 5\r\n",
        "pi = 3.1416\r\n",
        "aprobo = False"
      ],
      "execution_count": null,
      "outputs": []
    },
    {
      "cell_type": "markdown",
      "metadata": {
        "id": "5FL-KzXRImuW"
      },
      "source": [
        "# Tipos fundamentales de variables\n",
        "\n"
      ]
    },
    {
      "cell_type": "code",
      "metadata": {
        "colab": {
          "base_uri": "https://localhost:8080/"
        },
        "id": "BKkE2Y-Y3CBL",
        "outputId": "3537fb3a-8376-4a1b-e1bd-fbdcff7a9ddc"
      },
      "source": [
        "# cadena\r\n",
        "print(mensaje)\r\n",
        "type(mensaje)"
      ],
      "execution_count": null,
      "outputs": [
        {
          "output_type": "stream",
          "text": [
            "Bienvenido a bordo\n"
          ],
          "name": "stdout"
        },
        {
          "output_type": "execute_result",
          "data": {
            "text/plain": [
              "str"
            ]
          },
          "metadata": {
            "tags": []
          },
          "execution_count": 60
        }
      ]
    },
    {
      "cell_type": "code",
      "metadata": {
        "id": "WsthBTaTImuW",
        "colab": {
          "base_uri": "https://localhost:8080/"
        },
        "outputId": "779f75a7-c4c1-42b0-ea98-81b5f00fda6e"
      },
      "source": [
        "# enteros\n",
        "type(n)"
      ],
      "execution_count": null,
      "outputs": [
        {
          "output_type": "execute_result",
          "data": {
            "text/plain": [
              "int"
            ]
          },
          "metadata": {
            "tags": []
          },
          "execution_count": 61
        }
      ]
    },
    {
      "cell_type": "code",
      "metadata": {
        "colab": {
          "base_uri": "https://localhost:8080/"
        },
        "id": "vkxzeWEF2n88",
        "outputId": "6b543148-e4d8-4f43-c83c-198cefaebc75"
      },
      "source": [
        "# flotante\r\n",
        "type(pi)"
      ],
      "execution_count": null,
      "outputs": [
        {
          "output_type": "execute_result",
          "data": {
            "text/plain": [
              "float"
            ]
          },
          "metadata": {
            "tags": []
          },
          "execution_count": 62
        }
      ]
    },
    {
      "cell_type": "code",
      "metadata": {
        "colab": {
          "base_uri": "https://localhost:8080/"
        },
        "id": "WPt6-EkQ3Lqr",
        "outputId": "d2d66b8e-54c2-4af3-e607-dd4bafcbcba0"
      },
      "source": [
        "# boleano\r\n",
        "type(aprobo)"
      ],
      "execution_count": null,
      "outputs": [
        {
          "output_type": "execute_result",
          "data": {
            "text/plain": [
              "bool"
            ]
          },
          "metadata": {
            "tags": []
          },
          "execution_count": 63
        }
      ]
    },
    {
      "cell_type": "markdown",
      "metadata": {
        "id": "ra1-XBMV4adq"
      },
      "source": [
        "# Conversión de tipo de variable"
      ]
    },
    {
      "cell_type": "code",
      "metadata": {
        "id": "piGm8UanImuW",
        "colab": {
          "base_uri": "https://localhost:8080/"
        },
        "outputId": "8d5ed66d-e0da-4d10-d906-d6767f07183f"
      },
      "source": [
        "n = 5\n",
        "\n",
        "float(n)"
      ],
      "execution_count": null,
      "outputs": [
        {
          "output_type": "execute_result",
          "data": {
            "text/plain": [
              "5.0"
            ]
          },
          "metadata": {
            "tags": []
          },
          "execution_count": 3
        }
      ]
    },
    {
      "cell_type": "code",
      "metadata": {
        "colab": {
          "base_uri": "https://localhost:8080/",
          "height": 35
        },
        "id": "9QPgqirm3uaS",
        "outputId": "c1c3309c-617e-4eae-fe26-d939a6279f31"
      },
      "source": [
        "str(n)"
      ],
      "execution_count": null,
      "outputs": [
        {
          "output_type": "execute_result",
          "data": {
            "application/vnd.google.colaboratory.intrinsic+json": {
              "type": "string"
            },
            "text/plain": [
              "'5'"
            ]
          },
          "metadata": {
            "tags": []
          },
          "execution_count": 4
        }
      ]
    },
    {
      "cell_type": "code",
      "metadata": {
        "colab": {
          "base_uri": "https://localhost:8080/"
        },
        "id": "FoHSJGw65m-K",
        "outputId": "faa75f8f-27c1-4b24-d03b-46b3c884716a"
      },
      "source": [
        "int(3.1416)"
      ],
      "execution_count": null,
      "outputs": [
        {
          "output_type": "execute_result",
          "data": {
            "text/plain": [
              "3"
            ]
          },
          "metadata": {
            "tags": []
          },
          "execution_count": 71
        }
      ]
    },
    {
      "cell_type": "code",
      "metadata": {
        "colab": {
          "base_uri": "https://localhost:8080/"
        },
        "id": "WwV_1m4m4LmB",
        "outputId": "172af524-1ecc-4fdf-cece-0bdf068473fa"
      },
      "source": [
        "print(aprobo)\r\n",
        "\r\n",
        "aprobo_n = int(aprobo)\r\n",
        "\r\n",
        "aprobo_n"
      ],
      "execution_count": null,
      "outputs": [
        {
          "output_type": "stream",
          "text": [
            "False\n"
          ],
          "name": "stdout"
        },
        {
          "output_type": "execute_result",
          "data": {
            "text/plain": [
              "0"
            ]
          },
          "metadata": {
            "tags": []
          },
          "execution_count": 73
        }
      ]
    },
    {
      "cell_type": "code",
      "metadata": {
        "colab": {
          "base_uri": "https://localhost:8080/"
        },
        "id": "fJXl7aYx5QQQ",
        "outputId": "dd57198e-1de3-4d76-c818-0efdbf26b072"
      },
      "source": [
        "int(True)"
      ],
      "execution_count": null,
      "outputs": [
        {
          "output_type": "execute_result",
          "data": {
            "text/plain": [
              "1"
            ]
          },
          "metadata": {
            "tags": []
          },
          "execution_count": 75
        }
      ]
    },
    {
      "cell_type": "code",
      "metadata": {
        "colab": {
          "base_uri": "https://localhost:8080/"
        },
        "id": "y-w6ritS5fg9",
        "outputId": "8bc231e2-851e-44bf-f365-8e4d87317a41"
      },
      "source": [
        "bool(1)"
      ],
      "execution_count": null,
      "outputs": [
        {
          "output_type": "execute_result",
          "data": {
            "text/plain": [
              "True"
            ]
          },
          "metadata": {
            "tags": []
          },
          "execution_count": 5
        }
      ]
    },
    {
      "cell_type": "markdown",
      "metadata": {
        "id": "XsgIvjfX4uQz"
      },
      "source": [
        "Hay conversiones que no es posible realizarlas"
      ]
    },
    {
      "cell_type": "code",
      "metadata": {
        "colab": {
          "base_uri": "https://localhost:8080/",
          "height": 167
        },
        "id": "io--kW0B4ozS",
        "outputId": "19099a22-9013-4cf0-958f-91d255404f1f"
      },
      "source": [
        "m = mensaje(int) #error"
      ],
      "execution_count": null,
      "outputs": [
        {
          "output_type": "error",
          "ename": "TypeError",
          "evalue": "ignored",
          "traceback": [
            "\u001b[0;31m---------------------------------------------------------------------------\u001b[0m",
            "\u001b[0;31mTypeError\u001b[0m                                 Traceback (most recent call last)",
            "\u001b[0;32m<ipython-input-78-f3ebde72e8d3>\u001b[0m in \u001b[0;36m<module>\u001b[0;34m()\u001b[0m\n\u001b[0;32m----> 1\u001b[0;31m \u001b[0mm\u001b[0m \u001b[0;34m=\u001b[0m \u001b[0mmensaje\u001b[0m\u001b[0;34m(\u001b[0m\u001b[0mint\u001b[0m\u001b[0;34m)\u001b[0m\u001b[0;34m\u001b[0m\u001b[0;34m\u001b[0m\u001b[0m\n\u001b[0m",
            "\u001b[0;31mTypeError\u001b[0m: 'str' object is not callable"
          ]
        }
      ]
    }
  ]
}
