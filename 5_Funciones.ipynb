{
  "nbformat": 4,
  "nbformat_minor": 0,
  "metadata": {
    "colab": {
      "name": "5. Funciones Blenio.ipynb",
      "provenance": [],
      "toc_visible": true,
      "authorship_tag": "ABX9TyN3QEk2s+Jdr4GGlQVZVB7W",
      "include_colab_link": true
    },
    "kernelspec": {
      "name": "python3",
      "display_name": "Python 3"
    }
  },
  "cells": [
    {
      "cell_type": "markdown",
      "metadata": {
        "id": "view-in-github",
        "colab_type": "text"
      },
      "source": [
        "<a href=\"https://colab.research.google.com/github/AnIsAsPe/Introduccion-a-Python/blob/main/5_Funciones_Blenio.ipynb\" target=\"_parent\"><img src=\"https://colab.research.google.com/assets/colab-badge.svg\" alt=\"Open In Colab\"/></a>"
      ]
    },
    {
      "cell_type": "markdown",
      "metadata": {
        "id": "Qp-6Ef3tImuY"
      },
      "source": [
        "## Funciones\n",
        "\n",
        "En Python una función es definida usando la palabra clave `def`, seguida de un nombre para la función, una variable entre paréntesis `()`, y el símbolo de dos puntos `:`. El siguiente código, con un nivel adicional de indentación, es el cuerpo de la función."
      ]
    },
    {
      "cell_type": "code",
      "metadata": {
        "colab": {
          "base_uri": "https://localhost:8080/"
        },
        "id": "Oha8kpSHBZnR",
        "outputId": "5b8bb369-9913-4b1c-f5ab-a7bd1c5a732c"
      },
      "source": [
        "def saludar():\r\n",
        "    print('¡Hola!')\r\n"
      ],
      "execution_count": null,
      "outputs": [
        {
          "output_type": "execute_result",
          "data": {
            "text/plain": [
              "5"
            ]
          },
          "metadata": {
            "tags": []
          },
          "execution_count": 3
        }
      ]
    },
    {
      "cell_type": "code",
      "metadata": {
        "id": "kw-HoVmpsgW7"
      },
      "source": [
        "def IMC(peso, talla):\r\n",
        "  '''Calcula el Indice de Masa Corporal\r\n",
        "  peso: peso en kilogramos\r\n",
        "  talla: altura en centimetros'''\r\n",
        "    \r\n",
        "  IMC = peso/talla\r\n",
        "\r\n",
        "  print(IMC)\r\n",
        "  \r\n",
        "  return IMC"
      ],
      "execution_count": null,
      "outputs": []
    },
    {
      "cell_type": "code",
      "metadata": {
        "id": "4YzueWqnImuY",
        "colab": {
          "base_uri": "https://localhost:8080/"
        },
        "outputId": "aebc3ce4-5077-4eac-84b6-97b291e3da21"
      },
      "source": [
        "Pedro_imc = IMC(59, 162)"
      ],
      "execution_count": null,
      "outputs": [
        {
          "output_type": "stream",
          "text": [
            "0.36419753086419754\n"
          ],
          "name": "stdout"
        }
      ]
    },
    {
      "cell_type": "code",
      "metadata": {
        "colab": {
          "base_uri": "https://localhost:8080/"
        },
        "id": "nFHNlAdJChac",
        "outputId": "d08fba9c-af0b-4f6a-907c-0acb965539eb"
      },
      "source": [
        "Pedro_imc"
      ],
      "execution_count": null,
      "outputs": [
        {
          "output_type": "execute_result",
          "data": {
            "text/plain": [
              "0.36419753086419754"
            ]
          },
          "metadata": {
            "tags": []
          },
          "execution_count": 10
        }
      ]
    },
    {
      "cell_type": "markdown",
      "metadata": {
        "id": "zyiNAKSb1bZT"
      },
      "source": [
        "puede o no incluir argumentos, y puede o no devolver un valor (usando la palabra `return`)"
      ]
    },
    {
      "cell_type": "markdown",
      "metadata": {
        "id": "G4wc2c-mxsv4"
      },
      "source": [
        "## Funciones de orden superior"
      ]
    },
    {
      "cell_type": "markdown",
      "metadata": {
        "id": "6qVBQwAHyBWY"
      },
      "source": [
        "Una función que recibe como parametro otra función se conoce como *función de orden superior*"
      ]
    },
    {
      "cell_type": "code",
      "metadata": {
        "id": "ACXEEFHgxwJR"
      },
      "source": [
        "def saludar():\r\n",
        "    print('¡Hola!')\r\n",
        "   \r\n",
        "def nVeces(unaFuncion, n):  \r\n",
        "    for _ in range(n):\r\n",
        "        unaFuncion()"
      ],
      "execution_count": null,
      "outputs": []
    },
    {
      "cell_type": "code",
      "metadata": {
        "colab": {
          "base_uri": "https://localhost:8080/"
        },
        "id": "RSo-mljhDsjV",
        "outputId": "c24a49f8-61ee-408b-ad82-3cf451928623"
      },
      "source": [
        "nVeces(saludar, 5)"
      ],
      "execution_count": null,
      "outputs": [
        {
          "output_type": "stream",
          "text": [
            "¡Hola!\n",
            "¡Hola!\n",
            "¡Hola!\n",
            "¡Hola!\n",
            "¡Hola!\n"
          ],
          "name": "stdout"
        }
      ]
    },
    {
      "cell_type": "markdown",
      "metadata": {
        "id": "WGImCMO5zNGC"
      },
      "source": [
        "## Funciones recursivas"
      ]
    },
    {
      "cell_type": "code",
      "metadata": {
        "id": "t3_KjF9ij-Ut"
      },
      "source": [
        "lambda x, y : x + y"
      ],
      "execution_count": null,
      "outputs": []
    },
    {
      "cell_type": "code",
      "metadata": {
        "id": "JapY5q-mzPd6"
      },
      "source": [
        "def calcula_factorial(n):\r\n",
        "  \"\"\"Función recursiva para calcular el \r\n",
        "  factorial de un número\"\"\"\r\n",
        "  print( n ,end = ' ')\r\n",
        "  if n > 1:\r\n",
        "    n = n * calcula_factorial(n -1)\r\n",
        "  return n\r\n"
      ],
      "execution_count": null,
      "outputs": []
    },
    {
      "cell_type": "code",
      "metadata": {
        "colab": {
          "base_uri": "https://localhost:8080/"
        },
        "id": "B3vMUH2mzosa",
        "outputId": "012db4e1-abf5-449f-df0c-9b78a5028104"
      },
      "source": [
        "num = 59\r\n",
        "\r\n",
        "fact = calcula_factorial(num)\r\n",
        "\r\n",
        "print('\\n',fact)"
      ],
      "execution_count": null,
      "outputs": [
        {
          "output_type": "stream",
          "text": [
            "59 58 57 56 55 54 53 52 51 50 49 48 47 46 45 44 43 42 41 40 39 38 37 36 35 34 33 32 31 30 29 28 27 26 25 24 23 22 21 20 19 18 17 16 15 14 13 12 11 10 9 8 7 6 5 4 3 2 1 \n",
            " 138683118545689835737939019720389406345902876772687432540821294940160000000000000\n"
          ],
          "name": "stdout"
        }
      ]
    },
    {
      "cell_type": "markdown",
      "metadata": {
        "id": "6wgiMvlXImuY"
      },
      "source": [
        "## Funciones lambda\n",
        "\n",
        "\n",
        "\n",
        "\n"
      ]
    },
    {
      "cell_type": "code",
      "metadata": {
        "colab": {
          "base_uri": "https://localhost:8080/"
        },
        "id": "eesTbJiMZp-g",
        "outputId": "654cdb18-0038-4cf2-f3ef-945c9c919b56"
      },
      "source": [
        "def cuadrado(x): \r\n",
        "  return x * x\r\n",
        "\r\n",
        "cuadrado(3)"
      ],
      "execution_count": null,
      "outputs": [
        {
          "output_type": "execute_result",
          "data": {
            "text/plain": [
              "9"
            ]
          },
          "metadata": {
            "tags": []
          },
          "execution_count": 29
        }
      ]
    },
    {
      "cell_type": "code",
      "metadata": {
        "colab": {
          "base_uri": "https://localhost:8080/"
        },
        "id": "eADeQ9eLkGZ9",
        "outputId": "ed2521ae-f476-4b2b-dc8f-1da796b97b95"
      },
      "source": [
        "(lambda x: x * x)(3)"
      ],
      "execution_count": null,
      "outputs": [
        {
          "output_type": "execute_result",
          "data": {
            "text/plain": [
              "9"
            ]
          },
          "metadata": {
            "tags": []
          },
          "execution_count": 31
        }
      ]
    },
    {
      "cell_type": "markdown",
      "metadata": {
        "id": "kwV5WlhO3tbo"
      },
      "source": [
        "En Python podemos también crear funciones sin nombre, usando la palabra clave `lambda` enseguida se incluyen los parametros separados por comas, luego dos puntos y luego la acción a realizar"
      ]
    },
    {
      "cell_type": "code",
      "metadata": {
        "colab": {
          "base_uri": "https://localhost:8080/"
        },
        "id": "ZHACpCNhZVlR",
        "outputId": "5af8b8db-5a21-4082-9a2c-20eed2f87429"
      },
      "source": [
        "#  tantos parametros como se desee\r\n",
        "\r\n",
        "(lambda x, y, z : x * y - z) (5, 8, 2)"
      ],
      "execution_count": null,
      "outputs": [
        {
          "output_type": "execute_result",
          "data": {
            "text/plain": [
              "38"
            ]
          },
          "metadata": {
            "tags": []
          },
          "execution_count": 32
        }
      ]
    },
    {
      "cell_type": "code",
      "metadata": {
        "colab": {
          "base_uri": "https://localhost:8080/"
        },
        "id": "WFreu8JWlLI8",
        "outputId": "b0f6804f-cfc9-430e-b981-95aa87ddabde"
      },
      "source": [
        "# si queremos reusar la función tenemos que asignarla a una variable\r\n",
        "\r\n",
        "multiplica = lambda x, y : x * y\r\n",
        "\r\n",
        "multiplica(5, 7)\r\n"
      ],
      "execution_count": null,
      "outputs": [
        {
          "output_type": "execute_result",
          "data": {
            "text/plain": [
              "35"
            ]
          },
          "metadata": {
            "tags": []
          },
          "execution_count": 34
        }
      ]
    },
    {
      "cell_type": "code",
      "metadata": {
        "id": "cF89Ifu8jYjd"
      },
      "source": [
        "# es posible crear funciones de órden superior con lambda\r\n",
        "\r\n",
        "x_mas_func = lambda x, unafuncion: x + unafuncion(x)"
      ],
      "execution_count": null,
      "outputs": []
    },
    {
      "cell_type": "code",
      "metadata": {
        "colab": {
          "base_uri": "https://localhost:8080/"
        },
        "id": "IP-hXHy_k_tU",
        "outputId": "82fe466e-58b7-4db5-ec69-bcfe2c533497"
      },
      "source": [
        "x_mas_func(3, cuadrado)"
      ],
      "execution_count": null,
      "outputs": [
        {
          "output_type": "execute_result",
          "data": {
            "text/plain": [
              "12"
            ]
          },
          "metadata": {
            "tags": []
          },
          "execution_count": 36
        }
      ]
    },
    {
      "cell_type": "code",
      "metadata": {
        "colab": {
          "base_uri": "https://localhost:8080/"
        },
        "id": "6ZRTGpblIUUJ",
        "outputId": "bc9a786b-04b3-48de-b813-cc20752e469d"
      },
      "source": [
        "float(3)"
      ],
      "execution_count": null,
      "outputs": [
        {
          "output_type": "execute_result",
          "data": {
            "text/plain": [
              "3.0"
            ]
          },
          "metadata": {
            "tags": []
          },
          "execution_count": 38
        }
      ]
    },
    {
      "cell_type": "code",
      "metadata": {
        "colab": {
          "base_uri": "https://localhost:8080/"
        },
        "id": "fkc1y-50nzqe",
        "outputId": "ebe65800-3aee-46c0-e112-19fac5451f2f"
      },
      "source": [
        "x_mas_func(5, float)"
      ],
      "execution_count": null,
      "outputs": [
        {
          "output_type": "execute_result",
          "data": {
            "text/plain": [
              "10.0"
            ]
          },
          "metadata": {
            "tags": []
          },
          "execution_count": 39
        }
      ]
    },
    {
      "cell_type": "markdown",
      "metadata": {
        "id": "kYt1j6uaoTsy"
      },
      "source": [
        "### Uso comun con filter( ) map( ) reduce( )"
      ]
    },
    {
      "cell_type": "code",
      "metadata": {
        "id": "MScEdv6RJDkN"
      },
      "source": [
        "filter?"
      ],
      "execution_count": null,
      "outputs": []
    },
    {
      "cell_type": "code",
      "metadata": {
        "id": "zsEY9I3Moxjb"
      },
      "source": [
        "resultado = list(filter(lambda x: 'o' in x,\r\n",
        "                   ['sal', 'son', 'cal']))\r\n"
      ],
      "execution_count": null,
      "outputs": []
    },
    {
      "cell_type": "code",
      "metadata": {
        "colab": {
          "base_uri": "https://localhost:8080/"
        },
        "id": "MlqzWD6Bqvn2",
        "outputId": "2038cc87-f453-4064-9bda-ac6c69e8e9f1"
      },
      "source": [
        "resultado"
      ],
      "execution_count": null,
      "outputs": [
        {
          "output_type": "execute_result",
          "data": {
            "text/plain": [
              "['son']"
            ]
          },
          "metadata": {
            "tags": []
          },
          "execution_count": 60
        }
      ]
    },
    {
      "cell_type": "code",
      "metadata": {
        "colab": {
          "base_uri": "https://localhost:8080/"
        },
        "id": "PMaXgwAWsuwr",
        "outputId": "73d5b2ca-cce9-4439-e4b3-b39a60076bae"
      },
      "source": [
        "edades = [15, 24, 13, 27, 18, 9, 11, 20]\r\n",
        "\r\n",
        "menores = list(filter(lambda x: x < 18, edades ))\r\n",
        "menores"
      ],
      "execution_count": null,
      "outputs": [
        {
          "output_type": "execute_result",
          "data": {
            "text/plain": [
              "[15, 13, 9, 11]"
            ]
          },
          "metadata": {
            "tags": []
          },
          "execution_count": 61
        }
      ]
    },
    {
      "cell_type": "code",
      "metadata": {
        "id": "JWCwokZQLq_5"
      },
      "source": [
        "map?"
      ],
      "execution_count": null,
      "outputs": []
    },
    {
      "cell_type": "code",
      "metadata": {
        "colab": {
          "base_uri": "https://localhost:8080/"
        },
        "id": "eRiIJhVFtJkR",
        "outputId": "c76407a6-9b08-4f1b-e7fe-b9fcf4e39328"
      },
      "source": [
        "list(map(lambda x: x.upper(), ['sal', 'sol', 'cal']))"
      ],
      "execution_count": null,
      "outputs": [
        {
          "output_type": "execute_result",
          "data": {
            "text/plain": [
              "['SAL', 'SOL', 'CAL']"
            ]
          },
          "metadata": {
            "tags": []
          },
          "execution_count": 63
        }
      ]
    },
    {
      "cell_type": "code",
      "metadata": {
        "colab": {
          "base_uri": "https://localhost:8080/"
        },
        "id": "Mc0sMi_4ttbr",
        "outputId": "26aba134-eefe-4af3-92a9-d35ca7fcb4f3"
      },
      "source": [
        "list(map(lambda x: x-18, edades))"
      ],
      "execution_count": null,
      "outputs": [
        {
          "output_type": "execute_result",
          "data": {
            "text/plain": [
              "[-3, 6, -5, 9, 0, -9, -7, 2]"
            ]
          },
          "metadata": {
            "tags": []
          },
          "execution_count": 64
        }
      ]
    },
    {
      "cell_type": "code",
      "metadata": {
        "id": "zpFKHnoLMcR7"
      },
      "source": [
        "from functools import reduce\r\n"
      ],
      "execution_count": null,
      "outputs": []
    },
    {
      "cell_type": "code",
      "metadata": {
        "id": "BPyqY2siMdzc"
      },
      "source": [
        "reduce?"
      ],
      "execution_count": null,
      "outputs": []
    },
    {
      "cell_type": "code",
      "metadata": {
        "colab": {
          "base_uri": "https://localhost:8080/"
        },
        "id": "vIsdUkg0Mn6K",
        "outputId": "05f317e7-d91e-4fac-eff5-bc4984945260"
      },
      "source": [
        "edades"
      ],
      "execution_count": null,
      "outputs": [
        {
          "output_type": "execute_result",
          "data": {
            "text/plain": [
              "[15, 24, 13, 27, 18, 9, 11, 20]"
            ]
          },
          "metadata": {
            "tags": []
          },
          "execution_count": 67
        }
      ]
    },
    {
      "cell_type": "code",
      "metadata": {
        "colab": {
          "base_uri": "https://localhost:8080/"
        },
        "id": "tSdKGPf4uJga",
        "outputId": "111c4268-9822-4f55-e5b1-c5363f499142"
      },
      "source": [
        "#Edad acumulada\r\n",
        "\r\n",
        "reduce(lambda x, y: x + y,  edades)"
      ],
      "execution_count": null,
      "outputs": [
        {
          "output_type": "execute_result",
          "data": {
            "text/plain": [
              "137"
            ]
          },
          "metadata": {
            "tags": []
          },
          "execution_count": 68
        }
      ]
    },
    {
      "cell_type": "code",
      "metadata": {
        "id": "8BEEYpHwup5k"
      },
      "source": [
        "import functools\r\n",
        "functools?"
      ],
      "execution_count": null,
      "outputs": []
    },
    {
      "cell_type": "code",
      "metadata": {
        "colab": {
          "base_uri": "https://localhost:8080/"
        },
        "id": "aq57zL-L4U97",
        "outputId": "dd966147-31c9-4228-9a5a-5d51a5ced06f"
      },
      "source": [
        "modulos?"
      ],
      "execution_count": null,
      "outputs": [
        {
          "output_type": "stream",
          "text": [
            "Object `modulos` not found.\n"
          ],
          "name": "stdout"
        }
      ]
    },
    {
      "cell_type": "code",
      "metadata": {
        "id": "BVxlJhmaMGoP"
      },
      "source": [
        ""
      ],
      "execution_count": null,
      "outputs": []
    },
    {
      "cell_type": "markdown",
      "metadata": {
        "id": "ufHSp7AJMG-n"
      },
      "source": [
        "# Errores y excepciones"
      ]
    },
    {
      "cell_type": "markdown",
      "metadata": {
        "id": "s6FIyc2OMNsZ"
      },
      "source": [
        "##Error de sintaxis"
      ]
    },
    {
      "cell_type": "code",
      "metadata": {
        "colab": {
          "base_uri": "https://localhost:8080/",
          "height": 129
        },
        "id": "hsDp7mDRK8rx",
        "outputId": "ca0f958d-a3e0-47ec-a5d5-d0d13802468f"
      },
      "source": [
        "print('hola'))"
      ],
      "execution_count": null,
      "outputs": [
        {
          "output_type": "error",
          "ename": "SyntaxError",
          "evalue": "ignored",
          "traceback": [
            "\u001b[0;36m  File \u001b[0;32m\"<ipython-input-71-ad2f1a6bc059>\"\u001b[0;36m, line \u001b[0;32m1\u001b[0m\n\u001b[0;31m    print('hola'))\u001b[0m\n\u001b[0m                 ^\u001b[0m\n\u001b[0;31mSyntaxError\u001b[0m\u001b[0;31m:\u001b[0m invalid syntax\n"
          ]
        }
      ]
    },
    {
      "cell_type": "code",
      "metadata": {
        "colab": {
          "base_uri": "https://localhost:8080/",
          "height": 129
        },
        "id": "doWoolUKMR_2",
        "outputId": "00dc9de0-c040-499e-a560-f7c65b292a79"
      },
      "source": [
        "[ 1, 2, 3; 4]"
      ],
      "execution_count": null,
      "outputs": [
        {
          "output_type": "error",
          "ename": "SyntaxError",
          "evalue": "ignored",
          "traceback": [
            "\u001b[0;36m  File \u001b[0;32m\"<ipython-input-72-b156dbc20cb3>\"\u001b[0;36m, line \u001b[0;32m1\u001b[0m\n\u001b[0;31m    [ 1, 2, 3; 4]\u001b[0m\n\u001b[0m             ^\u001b[0m\n\u001b[0;31mSyntaxError\u001b[0m\u001b[0;31m:\u001b[0m invalid syntax\n"
          ]
        }
      ]
    },
    {
      "cell_type": "code",
      "metadata": {
        "colab": {
          "base_uri": "https://localhost:8080/",
          "height": 129
        },
        "id": "jL4ewif4MZPF",
        "outputId": "c4713f6f-c9d3-4da2-9a80-d8d66489771e"
      },
      "source": [
        "def funcion\r\n",
        "  print(5)"
      ],
      "execution_count": null,
      "outputs": [
        {
          "output_type": "error",
          "ename": "SyntaxError",
          "evalue": "ignored",
          "traceback": [
            "\u001b[0;36m  File \u001b[0;32m\"<ipython-input-74-14134c3cdde8>\"\u001b[0;36m, line \u001b[0;32m1\u001b[0m\n\u001b[0;31m    def funcion\u001b[0m\n\u001b[0m               ^\u001b[0m\n\u001b[0;31mSyntaxError\u001b[0m\u001b[0;31m:\u001b[0m invalid syntax\n"
          ]
        }
      ]
    },
    {
      "cell_type": "markdown",
      "metadata": {
        "id": "3bc9T7aZarQN"
      },
      "source": [
        "## Otros errores"
      ]
    },
    {
      "cell_type": "code",
      "metadata": {
        "colab": {
          "base_uri": "https://localhost:8080/",
          "height": 129
        },
        "id": "MhZBQoEoa7bh",
        "outputId": "3ab98c36-1837-424d-84a5-acbcef9565bd"
      },
      "source": [
        "while a < 100:\r\n",
        "print(a)\r\n",
        "a -= 10"
      ],
      "execution_count": null,
      "outputs": [
        {
          "output_type": "error",
          "ename": "IndentationError",
          "evalue": "ignored",
          "traceback": [
            "\u001b[0;36m  File \u001b[0;32m\"<ipython-input-77-71b0a78c3601>\"\u001b[0;36m, line \u001b[0;32m2\u001b[0m\n\u001b[0;31m    print(a)\u001b[0m\n\u001b[0m        ^\u001b[0m\n\u001b[0;31mIndentationError\u001b[0m\u001b[0;31m:\u001b[0m expected an indented block\n"
          ]
        }
      ]
    },
    {
      "cell_type": "code",
      "metadata": {
        "id": "GSDYJFQ1KN6d",
        "colab": {
          "base_uri": "https://localhost:8080/",
          "height": 374
        },
        "outputId": "89f8c800-4223-4f28-8a37-2b9f249a65e0"
      },
      "source": [
        "#error de recursión\r\n",
        "def fibo(n): \r\n",
        "    return fibo(n-1) + fibo(n-2) \r\n",
        "    \r\n",
        "fibo(5)"
      ],
      "execution_count": null,
      "outputs": [
        {
          "output_type": "error",
          "ename": "RecursionError",
          "evalue": "ignored",
          "traceback": [
            "\u001b[0;31m---------------------------------------------------------------------------\u001b[0m",
            "\u001b[0;31mRecursionError\u001b[0m                            Traceback (most recent call last)",
            "\u001b[0;32m<ipython-input-78-201ad99afd66>\u001b[0m in \u001b[0;36m<module>\u001b[0;34m()\u001b[0m\n\u001b[1;32m      3\u001b[0m     \u001b[0;32mreturn\u001b[0m \u001b[0mfibo\u001b[0m\u001b[0;34m(\u001b[0m\u001b[0mn\u001b[0m\u001b[0;34m-\u001b[0m\u001b[0;36m1\u001b[0m\u001b[0;34m)\u001b[0m \u001b[0;34m+\u001b[0m \u001b[0mfibo\u001b[0m\u001b[0;34m(\u001b[0m\u001b[0mn\u001b[0m\u001b[0;34m-\u001b[0m\u001b[0;36m2\u001b[0m\u001b[0;34m)\u001b[0m\u001b[0;34m\u001b[0m\u001b[0;34m\u001b[0m\u001b[0m\n\u001b[1;32m      4\u001b[0m \u001b[0;34m\u001b[0m\u001b[0m\n\u001b[0;32m----> 5\u001b[0;31m \u001b[0mfibo\u001b[0m\u001b[0;34m(\u001b[0m\u001b[0;36m5\u001b[0m\u001b[0;34m)\u001b[0m\u001b[0;34m\u001b[0m\u001b[0;34m\u001b[0m\u001b[0m\n\u001b[0m",
            "\u001b[0;32m<ipython-input-78-201ad99afd66>\u001b[0m in \u001b[0;36mfibo\u001b[0;34m(n)\u001b[0m\n\u001b[1;32m      1\u001b[0m \u001b[0;31m#error de recursión\u001b[0m\u001b[0;34m\u001b[0m\u001b[0;34m\u001b[0m\u001b[0;34m\u001b[0m\u001b[0m\n\u001b[1;32m      2\u001b[0m \u001b[0;32mdef\u001b[0m \u001b[0mfibo\u001b[0m\u001b[0;34m(\u001b[0m\u001b[0mn\u001b[0m\u001b[0;34m)\u001b[0m\u001b[0;34m:\u001b[0m\u001b[0;34m\u001b[0m\u001b[0;34m\u001b[0m\u001b[0m\n\u001b[0;32m----> 3\u001b[0;31m     \u001b[0;32mreturn\u001b[0m \u001b[0mfibo\u001b[0m\u001b[0;34m(\u001b[0m\u001b[0mn\u001b[0m\u001b[0;34m-\u001b[0m\u001b[0;36m1\u001b[0m\u001b[0;34m)\u001b[0m \u001b[0;34m+\u001b[0m \u001b[0mfibo\u001b[0m\u001b[0;34m(\u001b[0m\u001b[0mn\u001b[0m\u001b[0;34m-\u001b[0m\u001b[0;36m2\u001b[0m\u001b[0;34m)\u001b[0m\u001b[0;34m\u001b[0m\u001b[0;34m\u001b[0m\u001b[0m\n\u001b[0m\u001b[1;32m      4\u001b[0m \u001b[0;34m\u001b[0m\u001b[0m\n\u001b[1;32m      5\u001b[0m \u001b[0mfibo\u001b[0m\u001b[0;34m(\u001b[0m\u001b[0;36m5\u001b[0m\u001b[0;34m)\u001b[0m\u001b[0;34m\u001b[0m\u001b[0;34m\u001b[0m\u001b[0m\n",
            "... last 1 frames repeated, from the frame below ...\n",
            "\u001b[0;32m<ipython-input-78-201ad99afd66>\u001b[0m in \u001b[0;36mfibo\u001b[0;34m(n)\u001b[0m\n\u001b[1;32m      1\u001b[0m \u001b[0;31m#error de recursión\u001b[0m\u001b[0;34m\u001b[0m\u001b[0;34m\u001b[0m\u001b[0;34m\u001b[0m\u001b[0m\n\u001b[1;32m      2\u001b[0m \u001b[0;32mdef\u001b[0m \u001b[0mfibo\u001b[0m\u001b[0;34m(\u001b[0m\u001b[0mn\u001b[0m\u001b[0;34m)\u001b[0m\u001b[0;34m:\u001b[0m\u001b[0;34m\u001b[0m\u001b[0;34m\u001b[0m\u001b[0m\n\u001b[0;32m----> 3\u001b[0;31m     \u001b[0;32mreturn\u001b[0m \u001b[0mfibo\u001b[0m\u001b[0;34m(\u001b[0m\u001b[0mn\u001b[0m\u001b[0;34m-\u001b[0m\u001b[0;36m1\u001b[0m\u001b[0;34m)\u001b[0m \u001b[0;34m+\u001b[0m \u001b[0mfibo\u001b[0m\u001b[0;34m(\u001b[0m\u001b[0mn\u001b[0m\u001b[0;34m-\u001b[0m\u001b[0;36m2\u001b[0m\u001b[0;34m)\u001b[0m\u001b[0;34m\u001b[0m\u001b[0;34m\u001b[0m\u001b[0m\n\u001b[0m\u001b[1;32m      4\u001b[0m \u001b[0;34m\u001b[0m\u001b[0m\n\u001b[1;32m      5\u001b[0m \u001b[0mfibo\u001b[0m\u001b[0;34m(\u001b[0m\u001b[0;36m5\u001b[0m\u001b[0;34m)\u001b[0m\u001b[0;34m\u001b[0m\u001b[0;34m\u001b[0m\u001b[0m\n",
            "\u001b[0;31mRecursionError\u001b[0m: maximum recursion depth exceeded"
          ]
        }
      ]
    },
    {
      "cell_type": "markdown",
      "metadata": {
        "id": "aEnm8QPDJuBV"
      },
      "source": [
        "## Excepciones de Python"
      ]
    },
    {
      "cell_type": "code",
      "metadata": {
        "colab": {
          "base_uri": "https://localhost:8080/",
          "height": 163
        },
        "id": "HfsVul9FJtUV",
        "outputId": "db69be2e-27f4-438a-9960-32bfb199479d"
      },
      "source": [
        "3 / 0"
      ],
      "execution_count": null,
      "outputs": [
        {
          "output_type": "error",
          "ename": "ZeroDivisionError",
          "evalue": "ignored",
          "traceback": [
            "\u001b[0;31m---------------------------------------------------------------------------\u001b[0m",
            "\u001b[0;31mZeroDivisionError\u001b[0m                         Traceback (most recent call last)",
            "\u001b[0;32m<ipython-input-79-e1965806ec03>\u001b[0m in \u001b[0;36m<module>\u001b[0;34m()\u001b[0m\n\u001b[0;32m----> 1\u001b[0;31m \u001b[0;36m3\u001b[0m \u001b[0;34m/\u001b[0m \u001b[0;36m0\u001b[0m\u001b[0;34m\u001b[0m\u001b[0;34m\u001b[0m\u001b[0m\n\u001b[0m",
            "\u001b[0;31mZeroDivisionError\u001b[0m: division by zero"
          ]
        }
      ]
    },
    {
      "cell_type": "code",
      "metadata": {
        "colab": {
          "base_uri": "https://localhost:8080/",
          "height": 163
        },
        "id": "tR2qykaoXnFT",
        "outputId": "5e6b0ae2-15b1-4df3-ffaf-31af552c2f12"
      },
      "source": [
        "list(plantas)"
      ],
      "execution_count": null,
      "outputs": [
        {
          "output_type": "error",
          "ename": "NameError",
          "evalue": "ignored",
          "traceback": [
            "\u001b[0;31m---------------------------------------------------------------------------\u001b[0m",
            "\u001b[0;31mNameError\u001b[0m                                 Traceback (most recent call last)",
            "\u001b[0;32m<ipython-input-80-97a5f60fad2f>\u001b[0m in \u001b[0;36m<module>\u001b[0;34m()\u001b[0m\n\u001b[0;32m----> 1\u001b[0;31m \u001b[0mlist\u001b[0m\u001b[0;34m(\u001b[0m\u001b[0mplantas\u001b[0m\u001b[0;34m)\u001b[0m\u001b[0;34m\u001b[0m\u001b[0;34m\u001b[0m\u001b[0m\n\u001b[0m",
            "\u001b[0;31mNameError\u001b[0m: name 'plantas' is not defined"
          ]
        }
      ]
    },
    {
      "cell_type": "code",
      "metadata": {
        "colab": {
          "base_uri": "https://localhost:8080/",
          "height": 163
        },
        "id": "HOLOzmJpX4Sm",
        "outputId": "c7d075be-1ffc-486e-d2c2-771ec5b8ad32"
      },
      "source": [
        "'5' - 3"
      ],
      "execution_count": null,
      "outputs": [
        {
          "output_type": "error",
          "ename": "TypeError",
          "evalue": "ignored",
          "traceback": [
            "\u001b[0;31m---------------------------------------------------------------------------\u001b[0m",
            "\u001b[0;31mTypeError\u001b[0m                                 Traceback (most recent call last)",
            "\u001b[0;32m<ipython-input-83-25534aaac646>\u001b[0m in \u001b[0;36m<module>\u001b[0;34m()\u001b[0m\n\u001b[0;32m----> 1\u001b[0;31m \u001b[0;34m'5'\u001b[0m \u001b[0;34m-\u001b[0m \u001b[0;36m3\u001b[0m\u001b[0;34m\u001b[0m\u001b[0;34m\u001b[0m\u001b[0m\n\u001b[0m",
            "\u001b[0;31mTypeError\u001b[0m: unsupported operand type(s) for -: 'str' and 'int'"
          ]
        }
      ]
    },
    {
      "cell_type": "code",
      "metadata": {
        "colab": {
          "base_uri": "https://localhost:8080/",
          "height": 180
        },
        "id": "CmZBsZF_J8S2",
        "outputId": "d8eff7e8-9296-41da-e998-72cb1a1af6ae"
      },
      "source": [
        "dic = {1 : 'a', 2 : 'b', 3: 'c'}\r\n",
        "dic[4]"
      ],
      "execution_count": null,
      "outputs": [
        {
          "output_type": "error",
          "ename": "KeyError",
          "evalue": "ignored",
          "traceback": [
            "\u001b[0;31m---------------------------------------------------------------------------\u001b[0m",
            "\u001b[0;31mKeyError\u001b[0m                                  Traceback (most recent call last)",
            "\u001b[0;32m<ipython-input-87-5ea2daa32328>\u001b[0m in \u001b[0;36m<module>\u001b[0;34m()\u001b[0m\n\u001b[1;32m      1\u001b[0m \u001b[0mdic\u001b[0m \u001b[0;34m=\u001b[0m \u001b[0;34m{\u001b[0m\u001b[0;36m1\u001b[0m \u001b[0;34m:\u001b[0m \u001b[0;34m'a'\u001b[0m\u001b[0;34m,\u001b[0m \u001b[0;36m2\u001b[0m \u001b[0;34m:\u001b[0m \u001b[0;34m'b'\u001b[0m\u001b[0;34m,\u001b[0m \u001b[0;36m3\u001b[0m\u001b[0;34m:\u001b[0m \u001b[0;34m'c'\u001b[0m\u001b[0;34m}\u001b[0m\u001b[0;34m\u001b[0m\u001b[0;34m\u001b[0m\u001b[0m\n\u001b[0;32m----> 2\u001b[0;31m \u001b[0mdic\u001b[0m\u001b[0;34m[\u001b[0m\u001b[0;36m4\u001b[0m\u001b[0;34m]\u001b[0m\u001b[0;34m\u001b[0m\u001b[0;34m\u001b[0m\u001b[0m\n\u001b[0m",
            "\u001b[0;31mKeyError\u001b[0m: 4"
          ]
        }
      ]
    },
    {
      "cell_type": "code",
      "metadata": {
        "colab": {
          "base_uri": "https://localhost:8080/",
          "height": 180
        },
        "id": "eHBP-OBqLnZx",
        "outputId": "a44a68c8-ce6d-4f7f-e6f9-84bc12f887ff"
      },
      "source": [
        "texto = 'palabra'\r\n",
        "texto[20]"
      ],
      "execution_count": null,
      "outputs": [
        {
          "output_type": "error",
          "ename": "IndexError",
          "evalue": "ignored",
          "traceback": [
            "\u001b[0;31m---------------------------------------------------------------------------\u001b[0m",
            "\u001b[0;31mIndexError\u001b[0m                                Traceback (most recent call last)",
            "\u001b[0;32m<ipython-input-91-61f8a781ae60>\u001b[0m in \u001b[0;36m<module>\u001b[0;34m()\u001b[0m\n\u001b[1;32m      1\u001b[0m \u001b[0mtexto\u001b[0m \u001b[0;34m=\u001b[0m \u001b[0;34m'palabra'\u001b[0m\u001b[0;34m\u001b[0m\u001b[0;34m\u001b[0m\u001b[0m\n\u001b[0;32m----> 2\u001b[0;31m \u001b[0mtexto\u001b[0m\u001b[0;34m[\u001b[0m\u001b[0;36m20\u001b[0m\u001b[0;34m]\u001b[0m\u001b[0;34m\u001b[0m\u001b[0;34m\u001b[0m\u001b[0m\n\u001b[0m",
            "\u001b[0;31mIndexError\u001b[0m: string index out of range"
          ]
        }
      ]
    },
    {
      "cell_type": "markdown",
      "metadata": {
        "id": "XqeJjndxMk5X"
      },
      "source": [
        "Puedes conocer más excepciones en la [documentación de Python](https://docs.python.org/3/library/exceptions.html)"
      ]
    },
    {
      "cell_type": "markdown",
      "metadata": {
        "id": "WlQjplQCNhIG"
      },
      "source": [
        "## Personalización de excepciones usando `raise`\r\n",
        "\r\n"
      ]
    },
    {
      "cell_type": "code",
      "metadata": {
        "colab": {
          "base_uri": "https://localhost:8080/",
          "height": 195
        },
        "id": "qSxsb5ocPzuD",
        "outputId": "0ae59f09-21f1-4163-a523-78029e47d30e"
      },
      "source": [
        "peso = -30\r\n",
        "\r\n",
        "if peso <= 0:\r\n",
        "  raise Exception('El peso debe ser mayor que 0')"
      ],
      "execution_count": null,
      "outputs": [
        {
          "output_type": "error",
          "ename": "Exception",
          "evalue": "ignored",
          "traceback": [
            "\u001b[0;31m---------------------------------------------------------------------------\u001b[0m",
            "\u001b[0;31mException\u001b[0m                                 Traceback (most recent call last)",
            "\u001b[0;32m<ipython-input-3-600f24baec2d>\u001b[0m in \u001b[0;36m<module>\u001b[0;34m()\u001b[0m\n\u001b[1;32m      2\u001b[0m \u001b[0;34m\u001b[0m\u001b[0m\n\u001b[1;32m      3\u001b[0m \u001b[0;32mif\u001b[0m \u001b[0mpeso\u001b[0m \u001b[0;34m<=\u001b[0m \u001b[0;36m0\u001b[0m\u001b[0;34m:\u001b[0m\u001b[0;34m\u001b[0m\u001b[0;34m\u001b[0m\u001b[0m\n\u001b[0;32m----> 4\u001b[0;31m   \u001b[0;32mraise\u001b[0m \u001b[0mException\u001b[0m\u001b[0;34m(\u001b[0m\u001b[0;34m'El peso debe ser mayor que 0'\u001b[0m\u001b[0;34m)\u001b[0m\u001b[0;34m\u001b[0m\u001b[0;34m\u001b[0m\u001b[0m\n\u001b[0m",
            "\u001b[0;31mException\u001b[0m: El peso debe ser mayor que 0"
          ]
        }
      ]
    },
    {
      "cell_type": "code",
      "metadata": {
        "id": "pOa1QtHLm_xJ"
      },
      "source": [
        "def IMC(peso, talla):\r\n",
        "  '''Calcula el Indice de Masa Corporal\r\n",
        "  peso: peso en kilogramos\r\n",
        "  talla: altura en centimetros'''\r\n",
        "\r\n",
        "  if peso <= 0:\r\n",
        "    raise Exception('El peso debe ser mayor que 0')\r\n",
        "  if talla <= 20:\r\n",
        "    raise Exception('La talla debe ser mayor que 0 y debe expresarse en cm')\r\n",
        "    \r\n",
        "  IMC = peso/talla\r\n",
        "\r\n",
        "  print(IMC)"
      ],
      "execution_count": null,
      "outputs": []
    },
    {
      "cell_type": "code",
      "metadata": {
        "colab": {
          "base_uri": "https://localhost:8080/",
          "height": 282
        },
        "id": "nlPmG3Lcnbil",
        "outputId": "7c802525-dffc-4eec-b7f5-de16d9a98c9b"
      },
      "source": [
        "IMC(60, 1.30)"
      ],
      "execution_count": null,
      "outputs": [
        {
          "output_type": "error",
          "ename": "Exception",
          "evalue": "ignored",
          "traceback": [
            "\u001b[0;31m---------------------------------------------------------------------------\u001b[0m",
            "\u001b[0;31mException\u001b[0m                                 Traceback (most recent call last)",
            "\u001b[0;32m<ipython-input-97-27b787d07c70>\u001b[0m in \u001b[0;36m<module>\u001b[0;34m()\u001b[0m\n\u001b[0;32m----> 1\u001b[0;31m \u001b[0mIMC\u001b[0m\u001b[0;34m(\u001b[0m\u001b[0;36m60\u001b[0m\u001b[0;34m,\u001b[0m \u001b[0;36m1.30\u001b[0m\u001b[0;34m)\u001b[0m\u001b[0;34m\u001b[0m\u001b[0;34m\u001b[0m\u001b[0m\n\u001b[0m",
            "\u001b[0;32m<ipython-input-96-e63d171844af>\u001b[0m in \u001b[0;36mIMC\u001b[0;34m(peso, talla)\u001b[0m\n\u001b[1;32m      7\u001b[0m     \u001b[0;32mraise\u001b[0m \u001b[0mException\u001b[0m\u001b[0;34m(\u001b[0m\u001b[0;34m'El peso debe ser mayor que 0'\u001b[0m\u001b[0;34m)\u001b[0m\u001b[0;34m\u001b[0m\u001b[0;34m\u001b[0m\u001b[0m\n\u001b[1;32m      8\u001b[0m   \u001b[0;32mif\u001b[0m \u001b[0mtalla\u001b[0m \u001b[0;34m<=\u001b[0m \u001b[0;36m20\u001b[0m\u001b[0;34m:\u001b[0m\u001b[0;34m\u001b[0m\u001b[0;34m\u001b[0m\u001b[0m\n\u001b[0;32m----> 9\u001b[0;31m     \u001b[0;32mraise\u001b[0m \u001b[0mException\u001b[0m\u001b[0;34m(\u001b[0m\u001b[0;34m'La talla debe ser mayor que 0 y debe expresarse en cm'\u001b[0m\u001b[0;34m)\u001b[0m\u001b[0;34m\u001b[0m\u001b[0;34m\u001b[0m\u001b[0m\n\u001b[0m\u001b[1;32m     10\u001b[0m \u001b[0;34m\u001b[0m\u001b[0m\n\u001b[1;32m     11\u001b[0m   \u001b[0mIMC\u001b[0m \u001b[0;34m=\u001b[0m \u001b[0mpeso\u001b[0m\u001b[0;34m/\u001b[0m\u001b[0mtalla\u001b[0m\u001b[0;34m\u001b[0m\u001b[0;34m\u001b[0m\u001b[0m\n",
            "\u001b[0;31mException\u001b[0m: La talla debe ser mayor que 0 y debe expresarse en cm"
          ]
        }
      ]
    },
    {
      "cell_type": "markdown",
      "metadata": {
        "id": "ZjUtuGjPn2sU"
      },
      "source": [
        "## Uso de `assert` para evaluar que se cumplan ciertas condiciones"
      ]
    },
    {
      "cell_type": "code",
      "metadata": {
        "id": "TgMQfN2Fl_b3"
      },
      "source": [
        "def concatena_texto(a, b):\r\n",
        "  assert type(a)== str, 'a no es str'\r\n",
        "  assert type(b)== str, 'b no es str'\r\n",
        "  print(a + b)"
      ],
      "execution_count": null,
      "outputs": []
    },
    {
      "cell_type": "code",
      "metadata": {
        "colab": {
          "base_uri": "https://localhost:8080/",
          "height": 265
        },
        "id": "rZcnFdMVmagT",
        "outputId": "4ae7315a-c0ed-49ef-c635-02b0b402896a"
      },
      "source": [
        "concatena_texto('a', 2)"
      ],
      "execution_count": null,
      "outputs": [
        {
          "output_type": "error",
          "ename": "AssertionError",
          "evalue": "ignored",
          "traceback": [
            "\u001b[0;31m---------------------------------------------------------------------------\u001b[0m",
            "\u001b[0;31mAssertionError\u001b[0m                            Traceback (most recent call last)",
            "\u001b[0;32m<ipython-input-101-895c3977c8ce>\u001b[0m in \u001b[0;36m<module>\u001b[0;34m()\u001b[0m\n\u001b[0;32m----> 1\u001b[0;31m \u001b[0mconcatena_texto\u001b[0m\u001b[0;34m(\u001b[0m\u001b[0;34m'a'\u001b[0m\u001b[0;34m,\u001b[0m \u001b[0;36m2\u001b[0m\u001b[0;34m)\u001b[0m\u001b[0;34m\u001b[0m\u001b[0;34m\u001b[0m\u001b[0m\n\u001b[0m",
            "\u001b[0;32m<ipython-input-98-3a69f28c0fcf>\u001b[0m in \u001b[0;36mconcatena_texto\u001b[0;34m(a, b)\u001b[0m\n\u001b[1;32m      1\u001b[0m \u001b[0;32mdef\u001b[0m \u001b[0mconcatena_texto\u001b[0m\u001b[0;34m(\u001b[0m\u001b[0ma\u001b[0m\u001b[0;34m,\u001b[0m \u001b[0mb\u001b[0m\u001b[0;34m)\u001b[0m\u001b[0;34m:\u001b[0m\u001b[0;34m\u001b[0m\u001b[0;34m\u001b[0m\u001b[0m\n\u001b[1;32m      2\u001b[0m   \u001b[0;32massert\u001b[0m \u001b[0mtype\u001b[0m\u001b[0;34m(\u001b[0m\u001b[0ma\u001b[0m\u001b[0;34m)\u001b[0m\u001b[0;34m==\u001b[0m \u001b[0mstr\u001b[0m\u001b[0;34m,\u001b[0m \u001b[0;34m'a no es str'\u001b[0m\u001b[0;34m\u001b[0m\u001b[0;34m\u001b[0m\u001b[0m\n\u001b[0;32m----> 3\u001b[0;31m   \u001b[0;32massert\u001b[0m \u001b[0mtype\u001b[0m\u001b[0;34m(\u001b[0m\u001b[0mb\u001b[0m\u001b[0;34m)\u001b[0m\u001b[0;34m==\u001b[0m \u001b[0mstr\u001b[0m\u001b[0;34m,\u001b[0m \u001b[0;34m'b no es str'\u001b[0m\u001b[0;34m\u001b[0m\u001b[0;34m\u001b[0m\u001b[0m\n\u001b[0m\u001b[1;32m      4\u001b[0m   \u001b[0mprint\u001b[0m\u001b[0;34m(\u001b[0m\u001b[0ma\u001b[0m \u001b[0;34m+\u001b[0m \u001b[0mb\u001b[0m\u001b[0;34m)\u001b[0m\u001b[0;34m\u001b[0m\u001b[0;34m\u001b[0m\u001b[0m\n",
            "\u001b[0;31mAssertionError\u001b[0m: b no es str"
          ]
        }
      ]
    },
    {
      "cell_type": "markdown",
      "metadata": {
        "id": "dgreCUHbqFxV"
      },
      "source": [
        "## Manejo de errores y excepciones usando `try` - `except`"
      ]
    },
    {
      "cell_type": "code",
      "metadata": {
        "id": "2lIpXH09I2jy"
      },
      "source": [
        "def divide(x, y): \r\n",
        "    try: \r\n",
        "        resultado = x // y \r\n",
        "        print(\"La respuesta es :\", resultado) \r\n",
        "    except ZeroDivisionError: \r\n",
        "        print(\"Lo siento, no puedes dividir entre cero \") \r\n"
      ],
      "execution_count": null,
      "outputs": []
    },
    {
      "cell_type": "code",
      "metadata": {
        "colab": {
          "base_uri": "https://localhost:8080/"
        },
        "id": "IA6DQ_WxI_8X",
        "outputId": "375873c1-29b9-44c6-ab60-fb642158a153"
      },
      "source": [
        "divide( 8, 3)"
      ],
      "execution_count": null,
      "outputs": [
        {
          "output_type": "stream",
          "text": [
            "La respuesta es : 2\n"
          ],
          "name": "stdout"
        }
      ]
    },
    {
      "cell_type": "code",
      "metadata": {
        "colab": {
          "base_uri": "https://localhost:8080/"
        },
        "id": "lfOXRXeriief",
        "outputId": "b1448e7e-838e-4b8f-eff1-25977fee1883"
      },
      "source": [
        "divide( 8, 0)"
      ],
      "execution_count": null,
      "outputs": [
        {
          "output_type": "stream",
          "text": [
            "Lo siento, no puedes dividir entre cero \n"
          ],
          "name": "stdout"
        }
      ]
    },
    {
      "cell_type": "code",
      "metadata": {
        "colab": {
          "base_uri": "https://localhost:8080/",
          "height": 163
        },
        "id": "6S1Yxr-GUj5N",
        "outputId": "c05c8efc-2a57-48ad-9849-6c6f1657642a"
      },
      "source": [
        "'s'+' 2' + [3.2]"
      ],
      "execution_count": null,
      "outputs": [
        {
          "output_type": "error",
          "ename": "TypeError",
          "evalue": "ignored",
          "traceback": [
            "\u001b[0;31m---------------------------------------------------------------------------\u001b[0m",
            "\u001b[0;31mTypeError\u001b[0m                                 Traceback (most recent call last)",
            "\u001b[0;32m<ipython-input-108-812d57dbe57e>\u001b[0m in \u001b[0;36m<module>\u001b[0;34m()\u001b[0m\n\u001b[0;32m----> 1\u001b[0;31m \u001b[0;34m's'\u001b[0m\u001b[0;34m+\u001b[0m\u001b[0;34m' 2'\u001b[0m \u001b[0;34m+\u001b[0m \u001b[0;34m[\u001b[0m\u001b[0;36m3.2\u001b[0m\u001b[0;34m]\u001b[0m\u001b[0;34m\u001b[0m\u001b[0;34m\u001b[0m\u001b[0m\n\u001b[0m",
            "\u001b[0;31mTypeError\u001b[0m: must be str, not list"
          ]
        }
      ]
    },
    {
      "cell_type": "code",
      "metadata": {
        "id": "BHQ9iCs2cu8q"
      },
      "source": [
        "def concatena2(a, b):\r\n",
        "  try:\r\n",
        "    's'+ a + b\r\n",
        "    print(a + b)\r\n",
        "  except TypeError:\r\n",
        "    print('Lo siento, ambas variables de entradas deben ser str')"
      ],
      "execution_count": null,
      "outputs": []
    },
    {
      "cell_type": "code",
      "metadata": {
        "colab": {
          "base_uri": "https://localhost:8080/"
        },
        "id": "NMloaO4ciTA1",
        "outputId": "8b617bb5-9056-4cc9-9ef1-f4b4cbbabade"
      },
      "source": [
        "concatena2 ('hola', ' ¿cómo estás?')"
      ],
      "execution_count": null,
      "outputs": [
        {
          "output_type": "stream",
          "text": [
            "hola ¿cómo estás?\n"
          ],
          "name": "stdout"
        }
      ]
    },
    {
      "cell_type": "markdown",
      "metadata": {
        "id": "F-upjzII8bPA"
      },
      "source": [
        "# Ejercicios operadores"
      ]
    },
    {
      "cell_type": "markdown",
      "metadata": {
        "id": "7vP0mXkw_EK_"
      },
      "source": [
        "Dada una variable c que contiene un sólo carácter, marca la(s) línea(s) de código que evalúa(n) si c es una vocal"
      ]
    },
    {
      "cell_type": "code",
      "metadata": {
        "id": "AjfxmNSI8eNI"
      },
      "source": [
        "c = 'e'\r\n"
      ],
      "execution_count": null,
      "outputs": []
    },
    {
      "cell_type": "code",
      "metadata": {
        "colab": {
          "base_uri": "https://localhost:8080/"
        },
        "id": "fjm8qQ2M_PU4",
        "outputId": "79e3bc69-0752-4ce8-c97d-4995919c9f85"
      },
      "source": [
        "c in 'aeiou'   # respuesta correcta"
      ],
      "execution_count": null,
      "outputs": [
        {
          "output_type": "execute_result",
          "data": {
            "text/plain": [
              "True"
            ]
          },
          "metadata": {
            "tags": []
          },
          "execution_count": 11
        }
      ]
    },
    {
      "cell_type": "code",
      "metadata": {
        "colab": {
          "base_uri": "https://localhost:8080/"
        },
        "id": "p0lT6DMd9PK_",
        "outputId": "6d130974-d650-485c-97dc-f77445cfe6fd"
      },
      "source": [
        "c == list('aeiou')  #repuesta incorrecta. Esta linea evalua si c es una lísta que contiene las vocales"
      ],
      "execution_count": null,
      "outputs": [
        {
          "output_type": "execute_result",
          "data": {
            "text/plain": [
              "False"
            ]
          },
          "metadata": {
            "tags": []
          },
          "execution_count": 8
        }
      ]
    },
    {
      "cell_type": "code",
      "metadata": {
        "colab": {
          "base_uri": "https://localhost:8080/"
        },
        "id": "HyKzUGp78qxB",
        "outputId": "8d3d9cfa-0b11-461a-8459-5ed0f7d51a45"
      },
      "source": [
        "c == 'a' or c =='e' or c =='i' or c=='o' or c == 'u'"
      ],
      "execution_count": null,
      "outputs": [
        {
          "output_type": "execute_result",
          "data": {
            "text/plain": [
              "True"
            ]
          },
          "metadata": {
            "tags": []
          },
          "execution_count": 9
        }
      ]
    },
    {
      "cell_type": "code",
      "metadata": {
        "colab": {
          "base_uri": "https://localhost:8080/",
          "height": 162
        },
        "id": "Q4KfMIwd9gom",
        "outputId": "2d6561cf-b507-4eec-e1a3-362823950daa"
      },
      "source": [
        "{vocal : [a, e, i, o, u]}"
      ],
      "execution_count": null,
      "outputs": [
        {
          "output_type": "error",
          "ename": "NameError",
          "evalue": "ignored",
          "traceback": [
            "\u001b[0;31m---------------------------------------------------------------------------\u001b[0m",
            "\u001b[0;31mNameError\u001b[0m                                 Traceback (most recent call last)",
            "\u001b[0;32m<ipython-input-10-266417ffc9a8>\u001b[0m in \u001b[0;36m<module>\u001b[0;34m()\u001b[0m\n\u001b[0;32m----> 1\u001b[0;31m \u001b[0;34m{\u001b[0m\u001b[0mvocal\u001b[0m \u001b[0;34m:\u001b[0m \u001b[0;34m[\u001b[0m\u001b[0ma\u001b[0m\u001b[0;34m,\u001b[0m \u001b[0me\u001b[0m\u001b[0;34m,\u001b[0m \u001b[0mi\u001b[0m\u001b[0;34m,\u001b[0m \u001b[0mo\u001b[0m\u001b[0;34m,\u001b[0m \u001b[0mu\u001b[0m\u001b[0;34m]\u001b[0m\u001b[0;34m}\u001b[0m\u001b[0;34m\u001b[0m\u001b[0;34m\u001b[0m\u001b[0m\n\u001b[0m",
            "\u001b[0;31mNameError\u001b[0m: name 'vocal' is not defined"
          ]
        }
      ]
    },
    {
      "cell_type": "markdown",
      "metadata": {
        "id": "toJQYM6j_DcP"
      },
      "source": [
        ""
      ]
    },
    {
      "cell_type": "code",
      "metadata": {
        "colab": {
          "base_uri": "https://localhost:8080/"
        },
        "id": "J2KwGWe5AZz0",
        "outputId": "88d165f9-dcb6-4983-d662-84ac706f01ee"
      },
      "source": [
        "3 + 3 == 6 and not 1 + 6 != 5 and 3 * 2 == 2 + 4"
      ],
      "execution_count": null,
      "outputs": [
        {
          "output_type": "execute_result",
          "data": {
            "text/plain": [
              "False"
            ]
          },
          "metadata": {
            "tags": []
          },
          "execution_count": 79
        }
      ]
    },
    {
      "cell_type": "code",
      "metadata": {
        "colab": {
          "base_uri": "https://localhost:8080/"
        },
        "id": "EUvUs7YTBVx5",
        "outputId": "3795c631-132e-4e83-cc3b-8f4be4fd9f9a"
      },
      "source": [
        "34 in range(4, 40, 2)"
      ],
      "execution_count": null,
      "outputs": [
        {
          "output_type": "execute_result",
          "data": {
            "text/plain": [
              "True"
            ]
          },
          "metadata": {
            "tags": []
          },
          "execution_count": 20
        }
      ]
    },
    {
      "cell_type": "code",
      "metadata": {
        "colab": {
          "base_uri": "https://localhost:8080/"
        },
        "id": "IQNz8z0oBh1o",
        "outputId": "07ab5d8d-fb1b-4582-d0ba-ab2090a11b4d"
      },
      "source": [
        "texto = 'Python es un lenguaje simple en su escritura y lectura'\r\n",
        "texto.islower()"
      ],
      "execution_count": null,
      "outputs": [
        {
          "output_type": "execute_result",
          "data": {
            "text/plain": [
              "False"
            ]
          },
          "metadata": {
            "tags": []
          },
          "execution_count": 36
        }
      ]
    },
    {
      "cell_type": "code",
      "metadata": {
        "colab": {
          "base_uri": "https://localhost:8080/"
        },
        "id": "IvbtYgJtDese",
        "outputId": "82352925-4d12-42e0-ae96-9ac685c8984a"
      },
      "source": [
        "texto.split(' ') == list(texto)"
      ],
      "execution_count": null,
      "outputs": [
        {
          "output_type": "execute_result",
          "data": {
            "text/plain": [
              "False"
            ]
          },
          "metadata": {
            "tags": []
          },
          "execution_count": 30
        }
      ]
    },
    {
      "cell_type": "code",
      "metadata": {
        "colab": {
          "base_uri": "https://localhost:8080/"
        },
        "id": "QG6JtCs5EuRh",
        "outputId": "0c5fe0fb-1233-4a18-e40f-6269aafdd663"
      },
      "source": [
        "'Python' in texto  or 'C++' in texto "
      ],
      "execution_count": null,
      "outputs": [
        {
          "output_type": "execute_result",
          "data": {
            "text/plain": [
              "True"
            ]
          },
          "metadata": {
            "tags": []
          },
          "execution_count": 28
        }
      ]
    },
    {
      "cell_type": "code",
      "metadata": {
        "id": "JEO58HE6BzeL"
      },
      "source": [
        "palabras = texto.split(' ')"
      ],
      "execution_count": null,
      "outputs": []
    },
    {
      "cell_type": "code",
      "metadata": {
        "colab": {
          "base_uri": "https://localhost:8080/"
        },
        "id": "kPsBXrsYGK_M",
        "outputId": "3ca9282d-7481-46c5-944f-93aafadc68a9"
      },
      "source": [
        "len(texto)"
      ],
      "execution_count": null,
      "outputs": [
        {
          "output_type": "execute_result",
          "data": {
            "text/plain": [
              "54"
            ]
          },
          "metadata": {
            "tags": []
          },
          "execution_count": 39
        }
      ]
    },
    {
      "cell_type": "code",
      "metadata": {
        "colab": {
          "base_uri": "https://localhost:8080/"
        },
        "id": "gLQXoMxrGVd3",
        "outputId": "79305abf-46cd-4439-fa80-99062d61632e"
      },
      "source": [
        "len(texto) == 54"
      ],
      "execution_count": null,
      "outputs": [
        {
          "output_type": "execute_result",
          "data": {
            "text/plain": [
              "True"
            ]
          },
          "metadata": {
            "tags": []
          },
          "execution_count": 54
        }
      ]
    },
    {
      "cell_type": "code",
      "metadata": {
        "colab": {
          "base_uri": "https://localhost:8080/"
        },
        "id": "H9ChjNaFHFdR",
        "outputId": "5cec2d5d-c8b5-48dc-a97e-5ac2f676adfb"
      },
      "source": [
        "(set(list(texto.split(' '))))"
      ],
      "execution_count": null,
      "outputs": [
        {
          "output_type": "execute_result",
          "data": {
            "text/plain": [
              "{'Python',\n",
              " 'en',\n",
              " 'es',\n",
              " 'escritura',\n",
              " 'lectura',\n",
              " 'lenguaje',\n",
              " 'simple',\n",
              " 'su',\n",
              " 'un',\n",
              " 'y'}"
            ]
          },
          "metadata": {
            "tags": []
          },
          "execution_count": 45
        }
      ]
    },
    {
      "cell_type": "code",
      "metadata": {
        "colab": {
          "base_uri": "https://localhost:8080/"
        },
        "id": "mAMvRrU8HvHJ",
        "outputId": "3c515d63-c081-4dc9-881a-35ce4fe55ebd"
      },
      "source": [
        "len(texto) >= 15 and len(texto) <60"
      ],
      "execution_count": null,
      "outputs": [
        {
          "output_type": "execute_result",
          "data": {
            "text/plain": [
              "True"
            ]
          },
          "metadata": {
            "tags": []
          },
          "execution_count": 46
        }
      ]
    },
    {
      "cell_type": "markdown",
      "metadata": {
        "id": "0xzjZNSRKTEg"
      },
      "source": [
        "## Ejercicios bloques de control"
      ]
    },
    {
      "cell_type": "code",
      "metadata": {
        "colab": {
          "base_uri": "https://localhost:8080/"
        },
        "id": "FWcmRAmXKV-R",
        "outputId": "0825f42e-4aec-4a29-9eae-1aced5b70bbc"
      },
      "source": [
        "num = 0\r\n",
        "suma = 0\r\n",
        "\r\n",
        "while num <= 100:\r\n",
        "    if num % 2 == 0:\r\n",
        "        suma += num\r\n",
        "    num += 1\r\n",
        "\r\n",
        "print(suma)"
      ],
      "execution_count": null,
      "outputs": [
        {
          "output_type": "stream",
          "text": [
            "2550\n"
          ],
          "name": "stdout"
        }
      ]
    },
    {
      "cell_type": "code",
      "metadata": {
        "colab": {
          "base_uri": "https://localhost:8080/"
        },
        "id": "WKuTEruLLMbm",
        "outputId": "5fd13b14-30dc-4218-93d5-1b701f3377c2"
      },
      "source": [
        "sum(list(range(0, 101, 2)))"
      ],
      "execution_count": null,
      "outputs": [
        {
          "output_type": "execute_result",
          "data": {
            "text/plain": [
              "2550"
            ]
          },
          "metadata": {
            "tags": []
          },
          "execution_count": 58
        }
      ]
    },
    {
      "cell_type": "code",
      "metadata": {
        "colab": {
          "base_uri": "https://localhost:8080/"
        },
        "id": "S7zDfjFbMMOW",
        "outputId": "08eb29c2-cdf6-419a-a270-ecb44012106c"
      },
      "source": [
        "suma = 0\r\n",
        "for num in range(0, 101, 2):\r\n",
        "  suma += num\r\n",
        "print(suma)"
      ],
      "execution_count": null,
      "outputs": [
        {
          "output_type": "stream",
          "text": [
            "2550\n"
          ],
          "name": "stdout"
        }
      ]
    },
    {
      "cell_type": "code",
      "metadata": {
        "colab": {
          "base_uri": "https://localhost:8080/"
        },
        "id": "xdlSrYmAN9yj",
        "outputId": "7190dfb4-b0fc-49be-8edf-7b3fd6960caa"
      },
      "source": [
        "# Programa que muestre la cuenta del uno al cien pero que en vez de \r\n",
        "#los múltiplos de tres escriba “Fizz” y en vez de los múltiplos de 5 \r\n",
        "#escriba “Buzz” y cuando un número sea múltiplo tanto de tres como de 5 \r\n",
        "#escriba “FizzBuzz”.\r\n",
        "\r\n",
        "num = 1\r\n",
        "while num <= 100:\r\n",
        "  if num % 3 == 0 and num % 5 == 0:\r\n",
        "    print('FizzBuzz')\r\n",
        "  elif num % 3 == 0:\r\n",
        "    print('Fizz')\r\n",
        "  elif num % 5 == 0:\r\n",
        "    print('Buzz')\r\n",
        "  else:\r\n",
        "    print(num)\r\n",
        "  num += 1"
      ],
      "execution_count": null,
      "outputs": [
        {
          "output_type": "stream",
          "text": [
            "1\n",
            "2\n",
            "Fizz 4\n",
            "Buzz Fizz 7\n",
            "8\n",
            "Fizz Buzz 11\n",
            "Fizz 13\n",
            "14\n",
            "FizzBuzz 16\n",
            "17\n",
            "Fizz 19\n",
            "Buzz Fizz 22\n",
            "23\n",
            "Fizz Buzz 26\n",
            "Fizz 28\n",
            "29\n",
            "FizzBuzz 31\n",
            "32\n",
            "Fizz 34\n",
            "Buzz Fizz 37\n",
            "38\n",
            "Fizz Buzz 41\n",
            "Fizz 43\n",
            "44\n",
            "FizzBuzz 46\n",
            "47\n",
            "Fizz 49\n",
            "Buzz Fizz 52\n",
            "53\n",
            "Fizz Buzz 56\n",
            "Fizz 58\n",
            "59\n",
            "FizzBuzz 61\n",
            "62\n",
            "Fizz 64\n",
            "Buzz Fizz 67\n",
            "68\n",
            "Fizz Buzz 71\n",
            "Fizz 73\n",
            "74\n",
            "FizzBuzz 76\n",
            "77\n",
            "Fizz 79\n",
            "Buzz Fizz 82\n",
            "83\n",
            "Fizz Buzz 86\n",
            "Fizz 88\n",
            "89\n",
            "FizzBuzz 91\n",
            "92\n",
            "Fizz 94\n",
            "Buzz Fizz 97\n",
            "98\n",
            "Fizz Buzz "
          ],
          "name": "stdout"
        }
      ]
    },
    {
      "cell_type": "code",
      "metadata": {
        "id": "vWR5oB1-PgKB"
      },
      "source": [
        "# Función para calcular la edad humana de un perro considerando \r\n",
        "# que los tres primeros años equivalen cada uno a 9.5 años humanos, \r\n",
        "# mientras que los siguientes equivalen cada uno a 5 años humanos.\r\n",
        "\r\n",
        "def edad_humana(años_perro):\r\n",
        "  assert edad_perro <\r\n",
        "  años = 0\r\n",
        "  while años <= edad_perro:\r\n",
        "    if años == \r\n"
      ],
      "execution_count": null,
      "outputs": []
    },
    {
      "cell_type": "code",
      "metadata": {
        "colab": {
          "base_uri": "https://localhost:8080/"
        },
        "id": "Gz4bHEMuUdBr",
        "outputId": "6768e8ec-f00b-485d-d590-771db41148ab"
      },
      "source": [
        "def separar(lista):\r\n",
        "  pares=[]\r\n",
        "  impares = []\r\n",
        "  \r\n",
        "  for e in lista:\r\n",
        "    if e % 2 == 0:\r\n",
        "      pares.append(e)\r\n",
        "    else:\r\n",
        "      impares.append(e)\r\n",
        "  return (pares, impares)\r\n",
        "\r\n",
        "\r\n",
        "pares, impares = separar(range(1,20))\r\n",
        "\r\n",
        "print(pares)\r\n",
        "print(impares)"
      ],
      "execution_count": null,
      "outputs": [
        {
          "output_type": "stream",
          "text": [
            "[2, 4, 6, 8, 10, 12, 14, 16, 18]\n",
            "[1, 3, 5, 7, 9, 11, 13, 15, 17, 19]\n"
          ],
          "name": "stdout"
        }
      ]
    },
    {
      "cell_type": "code",
      "metadata": {
        "id": "xHdqyoRTYoDh"
      },
      "source": [
        ""
      ],
      "execution_count": null,
      "outputs": []
    },
    {
      "cell_type": "code",
      "metadata": {
        "colab": {
          "base_uri": "https://localhost:8080/"
        },
        "id": "bb-Est1eYLMO",
        "outputId": "1fb4f958-8c20-4b07-a51b-d2694054ad06"
      },
      "source": [
        "import random\r\n",
        "\r\n",
        "numeros = random.sample(range(0, 100), 30)\r\n",
        "print(numeros)"
      ],
      "execution_count": null,
      "outputs": [
        {
          "output_type": "stream",
          "text": [
            "[38, 70, 53, 51, 56, 9, 41, 98, 25, 16, 48, 86, 73, 42, 96, 50, 57, 60, 27, 69, 32, 68, 35, 62, 17, 46, 21, 59, 24, 37]\n"
          ],
          "name": "stdout"
        }
      ]
    },
    {
      "cell_type": "code",
      "metadata": {
        "colab": {
          "base_uri": "https://localhost:8080/",
          "height": 162
        },
        "id": "oiL7C_80ZI4-",
        "outputId": "1d0bd31c-51dd-4158-cd82-ed9d1dde49e6"
      },
      "source": [
        "try:\r\n",
        "  resultado = 48/0\r\n",
        "except ZeroDivisionError:\r\n",
        "  print('No se puede dividir entre cero')"
      ],
      "execution_count": null,
      "outputs": [
        {
          "output_type": "error",
          "ename": "ZeroDivisionError",
          "evalue": "ignored",
          "traceback": [
            "\u001b[0;31m---------------------------------------------------------------------------\u001b[0m",
            "\u001b[0;31mZeroDivisionError\u001b[0m                         Traceback (most recent call last)",
            "\u001b[0;32m<ipython-input-76-b5e1aeb4364e>\u001b[0m in \u001b[0;36m<module>\u001b[0;34m()\u001b[0m\n\u001b[0;32m----> 1\u001b[0;31m \u001b[0mresultado\u001b[0m \u001b[0;34m=\u001b[0m \u001b[0;36m48\u001b[0m\u001b[0;34m/\u001b[0m\u001b[0;36m0\u001b[0m\u001b[0;34m\u001b[0m\u001b[0;34m\u001b[0m\u001b[0m\n\u001b[0m",
            "\u001b[0;31mZeroDivisionError\u001b[0m: division by zero"
          ]
        }
      ]
    },
    {
      "cell_type": "code",
      "metadata": {
        "colab": {
          "base_uri": "https://localhost:8080/"
        },
        "id": "rkBm3ELJZO1v",
        "outputId": "7385ab5a-0682-4db1-83ae-47897fb687ad"
      },
      "source": [
        "pares, nones = separar(numeros)\r\n",
        "print(pares)\r\n",
        "print(impares)"
      ],
      "execution_count": null,
      "outputs": [
        {
          "output_type": "stream",
          "text": [
            "[38, 70, 56, 98, 16, 48, 86, 42, 96, 50, 60, 32, 68, 62, 46, 24]\n",
            "[1, 3, 5, 7, 9, 11, 13, 15, 17, 19]\n"
          ],
          "name": "stdout"
        }
      ]
    },
    {
      "cell_type": "code",
      "metadata": {
        "colab": {
          "base_uri": "https://localhost:8080/"
        },
        "id": "LRN1mskua-Uo",
        "outputId": "4941bced-3342-4c05-f264-d42c118867fc"
      },
      "source": [
        "dias = ['lunes', 'martes','miercoles','jueves','viernes']\r\n",
        "\r\n",
        "try:\r\n",
        "  dias[6]\r\n",
        "except IndexError:\r\n",
        "  print('No existe en la lista el elemento solicitado')"
      ],
      "execution_count": null,
      "outputs": [
        {
          "output_type": "stream",
          "text": [
            "No existe en la lista el elemento solicitado\n"
          ],
          "name": "stdout"
        }
      ]
    },
    {
      "cell_type": "code",
      "metadata": {
        "colab": {
          "base_uri": "https://localhost:8080/"
        },
        "id": "lwOziZfHc2Ws",
        "outputId": "d1c9d3d8-4003-42fe-b372-2f81291ecb58"
      },
      "source": [
        "colores = { 'gris':'gray', 'azul':'blue', 'rojo':'red' } \r\n",
        "try:\r\n",
        "  colores['verde']\r\n",
        "except KeyError:\r\n",
        "  print('La clave solicitada no existe en el diccionario')"
      ],
      "execution_count": null,
      "outputs": [
        {
          "output_type": "stream",
          "text": [
            "La clave solicitada no existe en el diccionario\n"
          ],
          "name": "stdout"
        }
      ]
    }
  ]
}
